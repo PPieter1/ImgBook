{
 "cells": [
  {
   "cell_type": "code",
   "execution_count": 1,
   "id": "1b252df7-df66-4311-a1b7-fedba2ee848b",
   "metadata": {},
   "outputs": [],
   "source": [
    "# Import functions\n",
    "\n",
    "from Summarize import summarize_ebook\n",
    "from Helper import get_chapter_indices, make_scheduler_json\n",
    "from Create import create_book\n",
    "\n",
    "import warnings\n",
    "warnings.filterwarnings('ignore')"
   ]
  },
  {
   "cell_type": "code",
   "execution_count": 2,
   "id": "48a45cf1-bba3-4582-a78a-2bf77defd069",
   "metadata": {},
   "outputs": [],
   "source": [
    "# Summarize book\n",
    "# part_length indicates the length of parts that chapters will be split into. The remainder is added to the last part.\n",
    "# e.g. if part_length==3000 and a chapter has 10000 characters it will be split up into 3 parts of lengths 3000, 3000, and 4000\n",
    "\n",
    "summarized_book = summarize_ebook(ebook_path='data/BaptismofFire.epub', part_length=3000)"
   ]
  },
  {
   "cell_type": "code",
   "execution_count": 3,
   "id": "7cd0b4e9-ad86-452a-923d-69b0e44ade85",
   "metadata": {},
   "outputs": [
    {
     "name": "stdout",
     "output_type": "stream",
     "text": [
      "Number of summaries made for each index:\n",
      "[1, 1, 1, 1, 1, 29, 37, 24, 25, 33, 32, 39, 1, 1, 10, 1, 6, 2, 1, 1, 1, 1]\n",
      "The following indices were identified as chapters:\n",
      "[5, 6, 7, 8, 9, 10, 11, 14, 16]\n"
     ]
    }
   ],
   "source": [
    "# Get indices of chapters in summarized book\n",
    "# Either set the first and last index of the chapters manually or leave it as None for automatic detection.\n",
    "# !!! automatic detection is experimental !!!\n",
    "\n",
    "chapter_indices = get_chapter_indices(summarized_book=summarized_book, manual_first_index=None, manual_last_index=None)"
   ]
  },
  {
   "cell_type": "code",
   "execution_count": 4,
   "id": "56042e36-d29d-4e09-acc6-621b7ed41f9a",
   "metadata": {},
   "outputs": [],
   "source": [
    "# Create a json that can be imported by sd-webui-agent-scheduler\n",
    "\n",
    "make_scheduler_json(\n",
    "    template_file='test.json', # Existing template json file\n",
    "    output_file='result.json', # Name of output file (import this file with sd-webui-agent-scheduler)\n",
    "    summarized_book=summarized_book,  # summarized_book from 2nd cell in this notebook\n",
    "    chapter_indices=chapter_indices, # chapter_indices from 3rd cell in this notebook\n",
    "    checkpoint_name = 'dreamshaperXL_turboDpmppSDE' # SD Checkpoint Name\n",
    ")"
   ]
  },
  {
   "cell_type": "code",
   "execution_count": 5,
   "id": "38f17a0e-5e47-4abb-b6c8-9e307944862f",
   "metadata": {},
   "outputs": [
    {
     "name": "stdout",
     "output_type": "stream",
     "text": [
      "[6, 30, 59, 87, 116, 145, 174, 203, 232, 260, 289, 318, 347, 376, 404, 433, 462, 491, 520, 549, 577, 606, 635, 664, 693, 722, 750, 779, 808]\n",
      "[6, 31, 62, 92, 122, 153, 183, 213, 243, 274, 304, 334, 365, 395, 425, 456, 486, 516, 546, 577, 607, 637, 668, 698, 728, 759, 789, 819, 850, 880, 910, 940, 971, 1001, 1031, 1062, 1092]\n",
      "[6, 35, 70, 104, 139, 173, 208, 242, 277, 311, 346, 380, 415, 449, 484, 518, 553, 587, 622, 656, 691, 725, 760, 794]\n",
      "[6, 34, 67, 99, 132, 165, 198, 231, 263, 296, 329, 362, 394, 427, 460, 493, 526, 558, 591, 624, 657, 690, 722, 755, 788]\n",
      "[6, 33, 65, 97, 129, 161, 193, 225, 257, 289, 321, 353, 385, 417, 449, 481, 514, 546, 578, 610, 642, 674, 706, 738, 770, 802, 834, 866, 898, 930, 962, 994, 1026]\n",
      "[6, 26, 51, 76, 100, 125, 150, 175, 200, 225, 250, 275, 299, 324, 349, 374, 399, 424, 449, 474, 498, 523, 548, 573, 598, 623, 648, 673, 697, 722, 747, 772]\n",
      "[6, 31, 62, 92, 123, 153, 184, 214, 245, 275, 305, 336, 366, 397, 427, 458, 488, 519, 549, 580, 610, 640, 671, 701, 732, 762, 793, 823, 854, 884, 914, 945, 975, 1006, 1036, 1067, 1097, 1128, 1158]\n",
      "[6, 43, 85, 127, 169, 210, 252, 294, 336, 378]\n",
      "[6, 49, 97, 144, 192, 240]\n",
      "Finished!\n"
     ]
    }
   ],
   "source": [
    "# Add images to epub file and save as new file\n",
    "\n",
    "create_book(\n",
    "    summarized_book = summarized_book, # summarized_book from 2nd cell in this notebook\n",
    "    original_epub_path='data/BaptismofFire.epub', # path to original epub\n",
    "    new_epub_name='testbook2.epub', # name of new epub file (this is created by the script, no need to have an existing file)\n",
    "    chapter_indices=chapter_indices, # chapter_indices from 3rd cell in this notebook\n",
    "    \n",
    "    # path to folder where generated images are stored \n",
    "    # !(this folder should not contain any other images than the ones generated from the JSON)!\n",
    "    # Images should be ordered in correct alphanumerical order! (This is likely already the case.)\n",
    "    image_path='imgs/',\n",
    "    verbose=True # Whether to print the indices of added images\n",
    ")"
   ]
  }
 ],
 "metadata": {
  "kernelspec": {
   "display_name": "Python 3 (ipykernel)",
   "language": "python",
   "name": "python3"
  },
  "language_info": {
   "codemirror_mode": {
    "name": "ipython",
    "version": 3
   },
   "file_extension": ".py",
   "mimetype": "text/x-python",
   "name": "python",
   "nbconvert_exporter": "python",
   "pygments_lexer": "ipython3",
   "version": "3.10.12"
  }
 },
 "nbformat": 4,
 "nbformat_minor": 5
}
