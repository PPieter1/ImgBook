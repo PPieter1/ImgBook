{
 "cells": [
  {
   "cell_type": "code",
   "execution_count": 1,
   "id": "1b252df7-df66-4311-a1b7-fedba2ee848b",
   "metadata": {},
   "outputs": [],
   "source": [
    "# Import functions\n",
    "\n",
    "from Summarize import summarize_ebook\n",
    "from Helper import get_chapter_indices, make_scheduler_json\n",
    "from Create import create_book\n",
    "\n",
    "import warnings\n",
    "warnings.filterwarnings('ignore')"
   ]
  },
  {
   "cell_type": "code",
   "execution_count": 2,
   "id": "48a45cf1-bba3-4582-a78a-2bf77defd069",
   "metadata": {},
   "outputs": [
    {
     "data": {
      "application/vnd.jupyter.widget-view+json": {
       "model_id": "1064cef6429f4b2fb97995d97402c495",
       "version_major": 2,
       "version_minor": 0
      },
      "text/plain": [
       "Chapters:   0%|          | 0/22 [00:00<?, ?it/s]"
      ]
     },
     "metadata": {},
     "output_type": "display_data"
    },
    {
     "data": {
      "application/vnd.jupyter.widget-view+json": {
       "model_id": "",
       "version_major": 2,
       "version_minor": 0
      },
      "text/plain": [
       "Chapter Parts:   0%|          | 0/1 [00:00<?, ?it/s]"
      ]
     },
     "metadata": {},
     "output_type": "display_data"
    },
    {
     "data": {
      "application/vnd.jupyter.widget-view+json": {
       "model_id": "",
       "version_major": 2,
       "version_minor": 0
      },
      "text/plain": [
       "Chapter Parts:   0%|          | 0/1 [00:00<?, ?it/s]"
      ]
     },
     "metadata": {},
     "output_type": "display_data"
    },
    {
     "data": {
      "application/vnd.jupyter.widget-view+json": {
       "model_id": "",
       "version_major": 2,
       "version_minor": 0
      },
      "text/plain": [
       "Chapter Parts:   0%|          | 0/1 [00:00<?, ?it/s]"
      ]
     },
     "metadata": {},
     "output_type": "display_data"
    },
    {
     "data": {
      "application/vnd.jupyter.widget-view+json": {
       "model_id": "",
       "version_major": 2,
       "version_minor": 0
      },
      "text/plain": [
       "Chapter Parts:   0%|          | 0/1 [00:00<?, ?it/s]"
      ]
     },
     "metadata": {},
     "output_type": "display_data"
    },
    {
     "data": {
      "application/vnd.jupyter.widget-view+json": {
       "model_id": "",
       "version_major": 2,
       "version_minor": 0
      },
      "text/plain": [
       "Chapter Parts:   0%|          | 0/1 [00:00<?, ?it/s]"
      ]
     },
     "metadata": {},
     "output_type": "display_data"
    },
    {
     "data": {
      "application/vnd.jupyter.widget-view+json": {
       "model_id": "",
       "version_major": 2,
       "version_minor": 0
      },
      "text/plain": [
       "Chapter Parts:   0%|          | 0/29 [00:00<?, ?it/s]"
      ]
     },
     "metadata": {},
     "output_type": "display_data"
    },
    {
     "data": {
      "application/vnd.jupyter.widget-view+json": {
       "model_id": "",
       "version_major": 2,
       "version_minor": 0
      },
      "text/plain": [
       "Chapter Parts:   0%|          | 0/37 [00:00<?, ?it/s]"
      ]
     },
     "metadata": {},
     "output_type": "display_data"
    },
    {
     "data": {
      "application/vnd.jupyter.widget-view+json": {
       "model_id": "",
       "version_major": 2,
       "version_minor": 0
      },
      "text/plain": [
       "Chapter Parts:   0%|          | 0/24 [00:00<?, ?it/s]"
      ]
     },
     "metadata": {},
     "output_type": "display_data"
    },
    {
     "data": {
      "application/vnd.jupyter.widget-view+json": {
       "model_id": "",
       "version_major": 2,
       "version_minor": 0
      },
      "text/plain": [
       "Chapter Parts:   0%|          | 0/25 [00:00<?, ?it/s]"
      ]
     },
     "metadata": {},
     "output_type": "display_data"
    },
    {
     "data": {
      "application/vnd.jupyter.widget-view+json": {
       "model_id": "",
       "version_major": 2,
       "version_minor": 0
      },
      "text/plain": [
       "Chapter Parts:   0%|          | 0/33 [00:00<?, ?it/s]"
      ]
     },
     "metadata": {},
     "output_type": "display_data"
    },
    {
     "data": {
      "application/vnd.jupyter.widget-view+json": {
       "model_id": "",
       "version_major": 2,
       "version_minor": 0
      },
      "text/plain": [
       "Chapter Parts:   0%|          | 0/32 [00:00<?, ?it/s]"
      ]
     },
     "metadata": {},
     "output_type": "display_data"
    },
    {
     "data": {
      "application/vnd.jupyter.widget-view+json": {
       "model_id": "",
       "version_major": 2,
       "version_minor": 0
      },
      "text/plain": [
       "Chapter Parts:   0%|          | 0/39 [00:00<?, ?it/s]"
      ]
     },
     "metadata": {},
     "output_type": "display_data"
    },
    {
     "data": {
      "application/vnd.jupyter.widget-view+json": {
       "model_id": "",
       "version_major": 2,
       "version_minor": 0
      },
      "text/plain": [
       "Chapter Parts:   0%|          | 0/1 [00:00<?, ?it/s]"
      ]
     },
     "metadata": {},
     "output_type": "display_data"
    },
    {
     "data": {
      "application/vnd.jupyter.widget-view+json": {
       "model_id": "",
       "version_major": 2,
       "version_minor": 0
      },
      "text/plain": [
       "Chapter Parts:   0%|          | 0/1 [00:00<?, ?it/s]"
      ]
     },
     "metadata": {},
     "output_type": "display_data"
    },
    {
     "data": {
      "application/vnd.jupyter.widget-view+json": {
       "model_id": "",
       "version_major": 2,
       "version_minor": 0
      },
      "text/plain": [
       "Chapter Parts:   0%|          | 0/10 [00:00<?, ?it/s]"
      ]
     },
     "metadata": {},
     "output_type": "display_data"
    },
    {
     "data": {
      "application/vnd.jupyter.widget-view+json": {
       "model_id": "",
       "version_major": 2,
       "version_minor": 0
      },
      "text/plain": [
       "Chapter Parts:   0%|          | 0/1 [00:00<?, ?it/s]"
      ]
     },
     "metadata": {},
     "output_type": "display_data"
    },
    {
     "data": {
      "application/vnd.jupyter.widget-view+json": {
       "model_id": "",
       "version_major": 2,
       "version_minor": 0
      },
      "text/plain": [
       "Chapter Parts:   0%|          | 0/6 [00:00<?, ?it/s]"
      ]
     },
     "metadata": {},
     "output_type": "display_data"
    },
    {
     "data": {
      "application/vnd.jupyter.widget-view+json": {
       "model_id": "",
       "version_major": 2,
       "version_minor": 0
      },
      "text/plain": [
       "Chapter Parts:   0%|          | 0/2 [00:00<?, ?it/s]"
      ]
     },
     "metadata": {},
     "output_type": "display_data"
    },
    {
     "data": {
      "application/vnd.jupyter.widget-view+json": {
       "model_id": "",
       "version_major": 2,
       "version_minor": 0
      },
      "text/plain": [
       "Chapter Parts:   0%|          | 0/1 [00:00<?, ?it/s]"
      ]
     },
     "metadata": {},
     "output_type": "display_data"
    },
    {
     "data": {
      "application/vnd.jupyter.widget-view+json": {
       "model_id": "",
       "version_major": 2,
       "version_minor": 0
      },
      "text/plain": [
       "Chapter Parts:   0%|          | 0/1 [00:00<?, ?it/s]"
      ]
     },
     "metadata": {},
     "output_type": "display_data"
    },
    {
     "data": {
      "application/vnd.jupyter.widget-view+json": {
       "model_id": "",
       "version_major": 2,
       "version_minor": 0
      },
      "text/plain": [
       "Chapter Parts:   0%|          | 0/1 [00:00<?, ?it/s]"
      ]
     },
     "metadata": {},
     "output_type": "display_data"
    },
    {
     "data": {
      "application/vnd.jupyter.widget-view+json": {
       "model_id": "",
       "version_major": 2,
       "version_minor": 0
      },
      "text/plain": [
       "Chapter Parts:   0%|          | 0/1 [00:00<?, ?it/s]"
      ]
     },
     "metadata": {},
     "output_type": "display_data"
    }
   ],
   "source": [
    "# Summarize book\n",
    "# part_length indicates the length of parts that chapters will be split into. The remainder is added to the last part.\n",
    "# e.g. if part_length==3000 and a chapter has 10000 characters it will be split up into 3 parts of lengths 3000, 3000, and 4000.\n",
    "\n",
    "summarized_book = summarize_ebook(ebook_path='data/BaptismofFire.epub', part_length=3000)"
   ]
  },
  {
   "cell_type": "code",
   "execution_count": 3,
   "id": "7cd0b4e9-ad86-452a-923d-69b0e44ade85",
   "metadata": {},
   "outputs": [
    {
     "name": "stdout",
     "output_type": "stream",
     "text": [
      "Number of summaries made for each index:\n",
      "[1, 1, 1, 1, 1, 29, 37, 24, 25, 33, 32, 39, 1, 1, 10, 1, 6, 2, 1, 1, 1, 1]\n",
      "The following indices were identified as chapters:\n",
      "[5, 6, 7, 8, 9, 10, 11, 14, 16]\n"
     ]
    }
   ],
   "source": [
    "# Get indices of chapters in summarized book\n",
    "# Either set the first and last index of the chapters manually or leave it as None for automatic detection.\n",
    "# !!! automatic detection is experimental !!!\n",
    "\n",
    "chapter_indices = get_chapter_indices(summarized_book=summarized_book, manual_first_index=None, manual_last_index=None)"
   ]
  },
  {
   "cell_type": "code",
   "execution_count": 4,
   "id": "56042e36-d29d-4e09-acc6-621b7ed41f9a",
   "metadata": {},
   "outputs": [
    {
     "name": "stdout",
     "output_type": "stream",
     "text": [
      "The slopes of the ravine were overgrown with a dense, tangled mass of brambles and barberry; a perfect place for nesting and feeding. Such a spot, opposite the mouth of a ravine, was a good place for a hunter, giving a decent chance of a kill–particularly here in Brokilon Forest, which was abundant with game. Elven bows were shorter, lighter and more manageable and, owing to the laminated composition of wood and animal sinew, much ‘quicker’ than yew bows. Milva had used zefhars for several years and couldn’t imagine a bow capable of outclassing them.\n",
      "t the same market stall, owned by the same trader, she had found another rare beauty. Although it wasn’t long it had an impressive kick to its laminated wood and sinew limbs. The chaffinches continued to make a racket in the undergrowth. Milva had returned to Brokilon after a fortnight’s absence; she was leading the remains of a Scoia’tael commando defeated in Temeria during an attempt to make their way into war-torn Aedirn. She responded to the call, convinced it concerned some elf who had been healed and needed her help to re-establish contact with his commando.\n",
      "And more time will pass before he will be able to get up and walk normally. Those who instigated the rebellion on Thanedd are being hunted high and low! But Milva had already heard excited accounts from dryads in the eastern marches of Brokilon; she already knew the details of the events that had occurred a fortnight earlier. About the chestnut-haired sorceress who had appeared in Brokilon in a burst of magic; about the cripple with a broken arm and leg she had been dragging with her.\n",
      "eing treated with conynhaela normally lay lifeless and raving as the magic spoke through them… ‘Well?’ For one thing, because a commando of Scoia’tael had supposedly come to the aid of the rebellious mages on Thanedd. The fighting was raging everywhere and elven blood was flowing in rivers… Ha, thought Milva, perhaps what the priests are saying is true after all and the end of the world and the day of judgement are close at hand? No witcher, for as long as anyone can remember, has ever allowed himself to be drawn into politics or war. The short dryad leaning against a pine had eyes and hair the colour of silver.\n",
      "Milva stopped and turned back, breaking an overhanging twig of honeysuckle with a sharp movement, turning it over in her fingers before flinging it to the ground. ‘ I hear that the Witcher wants me to gather news, by moving among humans. The memories still endure, the blood is not yet dry… for there was a lot of blood, Lady Eithné.’ ‘ She narrowed her eyes, her face suddenly contorted, and she clenched her teeth tightly.\n",
      "For in fact we are always paying ourselves back and not someone else. Most ready-made arrows in circulation had too-short fletchings arranged straight along the shaft, while Milva only used spirally fletched arrows, with the fletchings never shorter than five inches. Even if she were to hit him in the belly, the arrow would penetrate and pierce the heart, liver or lungs. Milva, holding the bow at full draw, cursed under her breath. That was one of the most important, quite invaluable, advantages\n",
      "of her bow; were she to use a heavier or inferior weapon, she would never be able to hold it fully drawn for so long without tiring or losing precision with the shot. For the buck leapt upwards, kicked and fled, accompanied by the crackling of dry branches and the rustle of leaves being shoved aside. Having made a mental note of the route the animal had taken as it fled, she sat down calmly, resting her back against a tree trunk. A badly injured animal, which wasn’t agitated, would slow to a walk after its initial panicked flight. And the rumours about the exceptional resistance and endurance of witchers were also clearly no mere myths either. She gave a lengthy account of the incidents on the road and warned the dryads about the plans to seal the border on the Ribbon by humans.\n",
      "ing from time to time and then straightening up with a spring. It’s interesting that the fire and Codringher’s death occurred during the first July new moon, exactly when the unrest on the Isle of Thanedd was taking place. As if someone wanted to stop his trap up good and proper in advance, strike him dumb. I may have to squat to piss, but my coat is lined with wolf skin, not coney fur! I do,’ he said in a calm, quiet voice, not reacting to her anger or raised voice. ‘\n",
      "But I recklessly and selfishly put you at risk—’ ‘You’re a fool!’ After the fighting on Thanedd,’ she began, after waiting a moment, ‘unrest erupted everywhere. A Squirrel commando led by the famous Faoiltiarna also helped the mutinous sorcerers in the rebellion on Thanedd. You must be dear to their hearts for them to care so much about your health…’ She broke off, seeing the expression on his face, from which his unnatural composure had abruptly disappeared.\n",
      "y his shoulders and leant over him so that her long hair tumbled over his pale face. ‘ I’m glad it’s been confirmed,’ repeated the head of the secret service of the Kingdom of Redania, pensively, as though he were talking to himself. ‘ If only Yennefer were with him… There isn’t a witch with him, is there, Lennep?’ ‘ The agent left, cautiously and silently closing the oak door behind him.\n",
      "I lost face with Philippa, forced to whimper like a dog and beg her for a bloody spell, otherwise I’d still be hobbling. But the worst thing is that I can’t get my own back and tan his witcher’s hide! I don’t have the time, and anyway, I can’t use my own men to settle private scores! He has even begun to send female emissaries from Brokilon to search for traces of Princess Cirilla, the young girl you’re so interested in.\n",
      "dence of Yennefer’s betrayal and you don’t know where she is hiding. I have no secrets from you… What are you sniggering about, Ori?’ ‘ I have no secrets from you, Phil, and I count on reciprocity. Maria Barring is dead; long live Milva… How many human expeditions had come unstuck by the time the forces in Verden and Kerack cottoned on? All together, it was about five score humans, those who’d gone after dryad scalps most savagely.\n",
      "But into a trap, right into the shooting range of the dryads waiting in ambush…’ Dijkstra slid an interrogation report to the edge of his desk, because the parchment still seemed to reek of the torture chamber. ‘ And it’s still difficult to find volunteers for expeditions against the dryads in Verden. coughed Ori Reuven, surprised by his boss’s sudden–and then continuing–silence. ‘ Milva grew anxious when she couldn’t see blood anywhere near where the buck had disappeared. It was equipped with four blades so sharp they could shave the hairs on your forearm.\n",
      "Ribbon, with Brokilon looming up in the dawn mists on the far bank. I’d thought she was your stepdaughter, some sort of waif and stray, a star-crossed orphan. And your wench has escaped from the clutches of the kings and will be declared Imperatoress…’ ‘Is that information reliable?’ ‘ Nothing is certain these days,’ she yawned, sitting down on her bed, ‘apart from the fact that the sun journeys across the heavens from the east to the west. Ha, and she’ll be my Lady as well, for I’m from Upper Sodden, and the whole of Sodden, it turns out, is her fiefdom!\n",
      "Soon after Vengerberg fell and the Kaedwen Army entered Aedirn. You’ll have to find yourselves some other blood, vermin,’ she muttered, rolling up her sleeves and drawing a knife. ‘ She cut open the stomach and gall bladder, hunting for bezoars. She lifted the buck and laid him on a nearby log, his slit belly pointing downwards, letting the blood drain out.\n",
      "You’re heading to the end of the world, which is all in flames, and you haven’t even thought about supplying yourself with victuals. Your Lordship,’ Shilard Fitz-Oesterlen said, bowing ceremoniously. ‘ The ambassador knew that Dijkstra was exaggerating, but not inordinately. The minister,’ Dijkstra said, looking up at the ceiling, ‘resigned from the post owing to his poor state of health.’\n",
      "ardian secret service during the demonstration of torture instruments preceding his interrogation. And the concentration of imperial forces in Verden and Cintra? Quod attinet the incident on Thanedd,’ the ambassador said, spreading his arms, ‘I have not been empowered to express an opinion. I regret the fact that our protests are achieving minimal success in the face of the propaganda which seeks to suggest something else. Propaganda disseminated, I dare say, not without the support of the highest authorities of the Kingdom of Redania.’ ‘\n",
      "dares to search for the instigators of these crimes in the Empire.’ ‘ His Imperial Majesty,’ said the ambassador, bowing stiffly, ‘cannot interfere in the doings of Dol Blathanna, recognised by all its neighbouring powers as an independent kingdom.’ ‘ For Redania, Dol Blathanna remains part of the Kingdom of Aedirn. However, this is neither the time nor the place to discuss it. One may not deny the validity of your request,’ admitted Shilard Fitz-Oesterlen, feigning an embarrassed smile. ‘\n",
      "The name of the criminal…’ said the ambassador, pretending to recall it. Your Lordship,’ said Shilard Fitz-Oesterlen, smiling faintly, ‘does not limit his interests only to Redania, after all. Particularly since the mutual extradition of criminals seems to be impossible to carry out in such circumstances. You know as well as I do, dear Phil, that the imperial secret service is urgently hunting only those agents and emissaries who got under Emhyr’s skin.\n",
      "Milva rode south, as the crow flies, first along the banks of the Ribbon, through Burn Stump, and then, having crossed the river, through marshy gorges covered in a soft, bright green carpet of hair-cap moss. She guessed that the Witcher, not knowing the terrain as well as she did, would not risk crossing onto the human-controlled bank. She reined in her horse, so the bowmen concealed in the undergrowth could have a good look at her. In the hope that she hadn’t happened upon quick-tempered ones.\n",
      "She refrained from further questions; she knew them too well. Yes, just like it was in Dol Angra,’ she said, looking into his dark eyes. ‘ Once again the Nilfgaardian Imperator has you sowing mayhem with fire and sword on the humans’ rear lines.\n",
      "e to warn him about what kind of a turmoil he’s getting himself into. Philippa Eilhart’s tightly closed eyelids twitched, Triss Merigold panted and there were beads of sweat on Keira Metz’s high forehead. She was wearing a strange, conical and slightly crumpled hat. Dark, not very fresh-looking hair fell from beneath the soft brim. It was the only decoration worn by the Nilfgaardian sorceress.\n",
      "Her hand was slim, marked by yellow spots, her fingernails broken and uneven, and clearly bitten. ‘ Next to her Sheala de Tancarville emerged from the hazy light of the projection, dressed in black velvet sewn with pearls and with her neck draped with silver fox furs. On my right is Margarita Laux-Antille, the rectoress of the academy in Aretuza. I have no intention of sitting at the same table as that bloody elf–even as an illusion! I would request you observe etiquette,’ Philippa said, gripping the edge of the table with both hands. ‘\n",
      "When I finish, each of you shall decide whether to stay or leave. It would be sufficient for the secrecy that our hostess is appealing for to be broken. My revenge will come about in other ways, elf,’ said Sabrina, and her black eyes flashed ominously. ‘ She is subtly reminding you about my collaboration with Sigismund Dijkstra. And if I was invited with that intention, I declare that those efforts were in vain.\n",
      "se, that I am wasting time, which I only wrested with difficulty from my scholarly work. Along with the measures that I, Sheala de Tancarville, will personally take against the indiscreet.’ The tragic events on Thanedd, to which my thoughts return with regret and reluctance, proved that the effects of hundreds of years of apparently peaceful cooperation could be laid waste in an instant, as self-interest and inflated ambitions came to the fore. We now have discord, disorder, mutual hostility and mistrust.\n",
      "I withdraw my question,’ the Nilfgaardian enchantress smiled. ‘ It smacks to me of female chauvinism,’ Sabrina Glevissig said with a sneer. ‘ I’d go further; I adore men and I cannot imagine life without them. There is nothing worse than chauvinism underpinned by scholarship. If I may,’ came the melodious voice of Francesca Findabair, ‘I should like to cut these digressions about the natural and undeniable domination of our sex short for a moment, and focus on matters concerning the proposed initiative, the goal of which is still not entirely clear to me.\n",
      "touching something which was outside the frame of the projection. We can sit here chatting away apolitically, but when Nilfgaard triumphs and we end up under imperial rule, we shall all look like…’ Triss shifted anxiously, Philippa sighed almost inaudibly. Keira lowered her head, Sheala pretended to be straightening her boa. Does participation in it mean immediate resignation from the active–and indeed political–service we presently offer to our kings? And I know he definitely isn’t thinking about the one he engages in,’ Assire var Anahid added, looking at Philippa. ‘ I know there are many problems, and that there are doubts and uncertainties.\n",
      "I see empty seats and I presume they were not put here inadvertently.’ ‘ We shall meet again on the second day after the full moon, sisters dear, in fourteen days.’ ‘ And then we shall ponder over how to get that person to take it up. Ambling down the main street…’ ‘Decked out like wedding guests…’ ‘And what horses! And next to him, on the chestnut, it’s that she-elf… they call her Iskra…’ A cur came scuttling out from behind a fence, barking furiously, scurrying around near the fore hooves of Iskra’s mare.\n",
      "apple, as Kayleigh, the broad-shouldered one as Asse, and the one in the embroidered sheepskin jerkin as Reef. Two girls, riding side by side and holding hands, brought up the rear of the procession. The taller of the two, riding a bay, had her hair shorn as though recovering from the typhus, her jacket was unbuttoned, her lacy blouse gleamed white beneath it, and her necklace, bracelets and earrings flashed brightly. ‘ That shaven-headed one is Mistle…’ someone near Tuzik said. ‘ They say she’s killed more people than she’s seen springs…’ ‘And the other one? The flaxen hair of the young bandit tumbled from beneath her velvet beret decorated with an impudently jiggling bunch of pheasant feathers. They were forbidding-looking horsemen from the fort near Fen Aspra.\n",
      "The crystalline clear water of the Ribbon brimmed over the edge of the drop in a smooth, gentle arc, falling in a soughing and frothing cascade among boulders as black as onyx. That I miss civilisation a little too may alleviate your suffering. As you know, I was stuck in Brokilon for exactly thirty-six days… and nights too, when romantic nature was freezing my arse, crawling across my back and sprinkling dew on my nose—Whoaaa! So I see,’ the Witcher said, looking at the sky and reining in his skittish horse. ‘\n",
      "We are at Ceann Treise Falls and in front of us there’s a place called Seventh Mile. The Ribbon bends towards the west and we’ll go through the forest. The surface of the Ribbon turned white and boiling, as though someone were hurling great handfuls of gravel at the river. After some time the rain visibly eased off, the strong wind once again soughed in the branches, and the crashes of thunder stopped boring into their ears.\n",
      "A wagoner sat on the coachman’s seat pointing a crossbow at them. Money made the world go round, and supply was driven by demand. Geralt pulled his hood down over his eyes and began to wonder what would happen if the hav’caaren saw through the masquerade. ‘\n",
      "Luckily for them, the elves’ contemptuous dislike of conversing with humans was generally known and came as no surprise. The trader went over to the wagon and pulled back the edge of the wet tarpaulin. But that’s enough rabbiting… Show us the colour of your money.’ He had reason to believe the quarrel’s tip was barbed too–just like the arrows he’d been so proudly shown moments before–and would, after entering the belly, exit through the back in three or sometimes four places, turning the victim’s internal organs into a very messy goulash. ‘\n",
      "And don’t come back, because I’m meeting important parties here. One of the horsemen approached at a walk and towered over the hawker like a mountain. It was Faoiltiarna’s…’ The horseman rapped the hammer against his stirrup, as a sign. That’ll be… Let me think… Five hundred, if you’ll excuse me, Your Nobleness, if we’re talking Temerian currency.\n",
      "That’s cheap,’ snorted the horseman, smiling eerily behind his nose-guard. ‘ Watch out, Dandelion,’ hissed the Witcher, imperceptibly unfastening the buckle of his mantle. The horseman stood in his stirrups and drove the point of the hammer down with great force onto the hawker’s bald crown. The fervour of the other two men was somewhat cooled by the fountain of blood which spurted over them. The foot soldier aiming for him with the butt of a battle-axe suddenly groaned and lurched forward, as though someone had shoved him hard in the back.\n",
      "The remaining three, including the leader in the helmet with the nose-guard, assessed the danger immediately and galloped towards the archer, hiding behind their horses’ necks. They thought the horses’ necks represented sufficient protection against the arrows. Next to him, Dandelion hauled himself up, throwing off the corpse with a mutilated throat which was weighing down on him. the archer asked, wiping the arrowhead on some wet leaves and replacing it in her quiver. ‘\n",
      "You should have stayed in Brokilon till your peg healed instead of making it worse. It wasn’t raining as hard as it had been during the short battle, and it had stopped thundering. It’s some kind of prisoner,’ Geralt said, levering the lid open. ‘ And the enemy of our enemy…’ He broke off, seeing the Witcher removing a knife from his boot-top.\n",
      "He came to Thanedd specifically to abduct Ciri and she wounded him, defending herself from being captured.’ ‘ And if he opens his mouth, I know I won’t be able to hold back. I don’t know what sins you committed for them to trap you in this chest, Nilfgaardian,’ he said. ‘ A large group of riders are heading towards us from the Ribbon!\n",
      "The cavalry retreated to the ponds, leaving human and equine corpses behind, while the infantry concealed themselves among the barricades and hurled filthy insults at the enemy. After a while, the cavalry formed up and attacked once again. They have the Verdenian checkerboard emblem sewn onto their tunics. Behind us we’ve got Nilfgaard and a burning forest, and you can see for yourself what’s in front of us. They’re sure to have crossed the Yaruga in the south and probably the whole of Brugge and possibly Sodden are in flames—’ ‘I have to get to the Yaruga.’ ‘\n",
      "And praise the Gods for that, because I don’t have a death wish. To my side, guards, to my side, my imperial regiments, oh woe is me, the Witcher’s heading for Nilfgaard in a rowing boat, soon he’ll be here to take my crown and life from me! She’ll order the imperial guard to throw you out on your ear and set the dogs on you!’ Not only from anger, but also to be heard over the intensifying noise of battle.\n",
      "Only horsemen, no infantry…’ ‘The infantry are capturing forts and their garrisons. They sweated for two years to put up the foundations and it’ll burn down in a few seconds. It’s no more than fourteen miles to Ceann Treise and I know which paths to take.’ Milva shrugged, picked up her quiver and bow, took a step towards the horses and then suddenly turned around. ‘\n",
      "h and along the overgrown tracks, and they didn’t dare use roads; the hoofbeats and clanking could be heard everywhere, betraying the presence of armed forces. You’re lucky when it comes to the female of the species, Geralt. Methinks you weren’t bored during that month in Brokilon—’ Milva, who had just returned from her patrol, heard his theatrical whispering and noticed their expressions. ‘ I gather that some even cut off their left breast, so it won’t interfere when they draw the bow.\n",
      "The horses are snorting as though a wolf was sniffing around…’ ‘Comely, oh yes.’ Our beautiful, sharp-shooting wench seems not to understand the relationship between you and Ciri, and thinks, it seems to me, that you intend to woo her away from the Nilfgaardian Imperator. Without beating about the bush, she’s in line for the throne. There’s no point saving Ciri from a fate she’s been doomed to since the day of her birth.\n",
      "oss a sky bright with firelight, obscuring the twinkling stars. ‘ Not like the previous day, when the storm had been accompanied by a brief but strong downpour. They rode in silence, wet, chilled to the bone, and hunched over their saddles. They passed groups and columns of peasants bent beneath bundles, fleeing from war and conflagration, dazed, responding to questions with nothing but a fearful, uncomprehending and mute raising of their eyes, emptied by misfortune and horror.\n",
      "An’givare,’ Milva said, throwing her wet hair off her neck. ‘ I wasn’t going to wait until they arrived and put the cottage to the torch, spread me out on the very same floor and…’ She broke off, and spurred her horse forward. Geralt was the first to hear the snorting of the horse following in their tracks. The Nilfgaardian, whom Dandelion had last seen lying in a coffin, looked down at his horse’s wet mane.\n",
      "no doubt stripped from one of the horsemen killed by the wagon. Like in that tar house, which you must have ridden past, following our trail. Perhaps with his help it’ll be easier for us to get to—’ ‘Keep your tongue in check,’ the Witcher interrupted the poet sharply. ‘\n",
      "Scruples,’ Dandelion explained gravely, ‘are not the same as piles, Milva. And ragged shapes, which not long before had been people, frozen into strange poses. They rode closer, without fear, because it was apparent that the slaughter had not taken place that day. I told you, I can’t afford to—’ ‘Quiet,’ Dandelion said suddenly, steering his horse around. ‘\n",
      "Geralt lowered his hood; Milva also strained to listen and a moment later glanced at the Witcher and nodded silently. Thunderous laughter burst out, then someone whistled piercingly through their fingers, after which a strange but colourful company came walking around a bend in the highway, marching in single file, splashing mud with rhythmic steps of their heavy boots. ‘ They’re leading some humans,’ muttered Milva, indicating to Geralt with a movement of her head a small group emerging from the forest behind the company of dwarves, ‘who must be fugitives, because they’re laden down with\n",
      "The dwarves aren’t exactly travelling light themselves,’ Dandelion added. And if you do have such bad luck, you’re more likely to be greeted with an arrow in the chest than a kind word! And those,’ Zoltan Chivay said, pointing at the small group of humans, who had stopped and were huddled together, ‘are fugitives from Kernow. Not Nilfgaard,’ said the dwarf, shaking his head and looking at the dead with an indifferent expression. ‘\n",
      "I advise you against it,’ Zoltan Chivay said, and shook his head again. ‘ Milva glanced knowingly at the Witcher, who refrained from comment. ‘ They are women and children,’ Zoltan Chivay said, sticking out his beard and his belly. ‘ If you find anything useful there, get it stowed away, and pronto.\n",
      "Zoltan Chivay whistled through his fingers, signalling that the time for looting was over, and then he looked over Roach, Pegasus and Milva’s black with an expert eye. ‘ Geralt was certain the dwarves would quickly discard the wagon the moment it got well and truly stuck in soft, boggy ground, but he was mistaken. Milva became gloomy and grumpy, and only broke her silence to express the conviction that the horses’ softened hooves would split at any moment. Every so often Percival spotted groups of fugitives hiding in the forests. The women were in no hurry at all to leave the company either.\n",
      "They sang dirty songs, which Dandelion enthusiastically joined in with. To avoid laying themselves open to the appellation of ‘perfidious informers’, however, they went in a group. He got on famously with the dwarves, particularly when it turned out that some of them had heard of him and even knew his ballads and couplets. This knife pricked him in the side each time he tried to lean over.\n",
      "I am a sensible dwarf, however, and know that I’m unable to do everyone good. The dwarf was well informed about how the military activities were proceeding. They moved swiftly, putting all the villages beyond Drieschot to the torch and wiping out the Bruggian Army which was garrisoned there. King Foltest’s men must have shaken off their surprise and begun standing up to the Nilfgaardians.’ ‘\n",
      "on’t know what matters are driving you to those parts,’ Zoltan said, glowering suspiciously at them. ‘ It wouldn’t surprise me,’ he said finally, ‘if Nilfgaard had both banks of the Yaruga right up to the mouth of the Ina in their grasp. That pontoon bridge spanning the river from Cintra to the Bruggian bank? Zoltan cheered up and ordered a long break, after which he promised a quicker march and that they would reach the Old Road in a day at most.\n",
      "d rules of this typical dwarven game, but was fascinated by the amazing, intricate workmanship of the cards and the drawings of the figures. Compared to the cards humans played with, the dwarves’ cards were genuine works of art. Human card players, whom the Witcher had had several opportunities to observe, always played with greasy cards, so dirty that before cards were placed on the table they had to be laboriously peeled away from the fingers. Why, I ought to take my staff and knock some sense into you!’ ‘\n",
      "I’ll take her and, ha, ha, I’ve got another heart, kept for a rainy day! Pshaw, I’m gonna take my staff to him…’ Before Zoltan could use his stick, a piercing cry was heard from the forest. Percival Schuttenbach and the rest of the dwarves ran after them, armed with sticks, while Dandelion, who’d been woken by the screaming, brought up the rear. It looked at the humans and the dwarves, slowly turning its eyes, which were set on stalks.\n",
      "A dying, post-conjunction relic, if you know what I’m talking about.’ ‘ Or to be more precise, I’m wondering how the Witcher will do it. The Witcher winked at the company and then began to beat the ladle against the lid with all his strength. ‘ The eyehead,’ Geralt explained calmly, handing back the slightly dented kitchen utensils to the dwarves, ‘has remarkably delicate, sensitive hearing.\n",
      "I could show that I’m a dwarf-of-the-world and that I’ve heard this and that about Geralt of Rivia. The challenge you have in front of you is the same one we face: to survive and stay alive. But drop your idea about heading off alone,’ Zoltan continued his monologue, unperturbed by the Witcher’s silence, ‘and about a solo journey south, through Brugge and Sodden to the Yaruga. When news got out that I’d started to associate with you,’ the Witcher continued, ‘some sensible peop\n",
      "They advised me to abandon you in a desert, to rob you, strangle you, throw you into a pit and bury you in dung. I’m not fighting a private war,’ he said, turning around suddenly. ‘ Forgive me if that sounds unkind, but the rest of it doesn’t concern me. At the next stop, the Witcher demonstrated his interest in Zoltan’s sword, the sihil, which he had glanced at during the adventure with the eyehead.\n",
      "You witchers know how to wield a sword, but you don’t make them yourselves. The etching, engraving, chasing and other decorative elements. The blade’s construction and composition, numerous laminates in its soft core, edged with hard–not soft–steel…’ ‘Take it easy,’ the dwarf said, reining him in. ‘ You won’t make a metallurgist out of him, Schuttenbach, so don’t bore him with details. Modern dwarven blades are made the opposite way around: with a soft core and hard edges.\n",
      "The discussion about swords and metallurgy continued for some time. Zoltan stopped the procession and sent the gnome ahead to scout. A settlement,’ the gnome panted, wiping his fingers on the tails of his many-pocketed kaftan. ‘\n",
      "I’ll leave you the Field Marshal,’ Zoltan said, removing the parrot from his shoulder and passing him to Figgis Merluzzo. ‘ This ugly bird might suddenly start effing and blinding at the top of his voice and then our silent approach will go to fuck. Percival quickly led them to the edge of the forest, into dense elder shrubs. Particularly since my nostrils are used to the stench of burnt-down houses. Shut your trap,’ the archer hissed, still taking aim at each cottage and hut in turn.\n",
      "What…’ Zoltan broke off, for Yazon and Caleb had made it back, red in the face. ‘ If you didn’t touch any infected people, you’ve got nothing to worry about. The girl doesn’t have the strength to bury the dead, so she throws them into the pit…’ ‘Well,’ Zoltan said, sniffing. ‘ They tore her shift off her and threw her down onto a pile of rotten straw.\n",
      "They aren’t afraid of the pox,’ Yazon Varda said, shaking his head. ‘ You’ve forgotten about the smallpox,’ Zoltan Chivay muttered. ‘ He pointed out the marauder guarding the horses one more time. The man guarding the horses saw him and pulled a spear from its place by his saddle.\n",
      "rey-fletched arrow hit him in the middle of his chest and threw him from the saddle. He howled like an animal, bent double and lurched back against the fence, knocking over and breaking some of the pickets. Before the others had managed to come to their senses and pick up their weapons, the Witcher was among them. The second, nothing but a stripling, covered his head with both hands, which the sihil severed at the wrists. They didn’t hear the twang of the bowstring, neither did Milva change her position or even twitch.\n",
      "The whoreson’s got away and he’ll be back with a bunch of his mates.’ ‘ She can slaughter them for their meat; she won’t have to kill the cow. Let’s get out of here before the plague blows our way… Hey, Witcher, where are you going? To get a pair of boots,’ Geralt said coldly, stooping down over the long-haired marauder, whose dead eyes stared heavenwards. ‘ Mandrake, or Love Apple, is a class of plant from the Mandragora or nightshade family, a group including herbaceous, stemless plants with parsnip-like roots, in which a similarity to the human form may be observed; the leaves are arranged in a rosette. M. roots were bought and sold, with prices reaching as much as sixty florins. According to superstition, m. was used for making spells, magical philtres and poisons.\n",
      "The Old Road had changed somewhat since the last time the Witcher had travelled along it. The pace of the march dropped since the dwarves’ wagon wove between the potholes with extreme difficulty, frequently becoming stuck. Zoltan Chivay knew the reason for the road’s desperate state of disrepair. But you don’t even know how to destroy things wisely,’ Zoltan griped, ordering yet another attempt to pull a wheel out of a hole. ‘ It looked as though the inevitable moment was approaching when the wagon would shatter or become totally and irreversibly stuck.\n",
      "ed from Sodden on the far side of the Ina, following which the survivors of Nilfgaard’s thoroughly decimated forces would scurry back across the Yaruga. He spoke almost without an accent, but runaway peasants could have recognised it…’ Milva turned to face him. ‘ Since Geralt–in spite of repeated threats–seemed to be in no hurry to part with the skittish Roach, Zoltan Chivay mounted the chestnut. During the night the horizon was bright with the glow of fires and during the day ribbons of smoke rose into the sky, soiling the blue. Only one man and one dog remained, who no threats were capable of tearing away from the carrion on the arched spine and ribs.\n",
      "e had been burnt down and a skirmish must have taken place nearby, because they saw a fresh burial mound directly behind the smoking ruins. And at a certain distance beyond the mound a huge oak tree stood by the crossroads. We ought to take a look,’ Zoltan Chivay decided, putting an end to the discussion about the risks and the danger. ‘ Dandelion, who had never been able to rein in his curiosity, urged Pegasus on and trotted after him. The first of the seven hanged humans had a sign on his chest reading: ‘Traitor’.\n",
      "The Temerians or an army from Sodden passed through here,’ the dwarf insisted. ‘ And even if Temeria is on the offensive, there may still be advance Nilfgaardian squadrons in front of us. You took the words right out of my mouth, birdie,’ Zoltan Chivay said, frowning. ‘ The monsters know that a soldier on the march won’t even pass up a sheep.\n",
      "o had been full of vigour and good humour for quite some time, tuned his lute and began to compose a fitting couplet about willows, knotholes and lascivious warriors, and the dwarves and the parrot outdid each other in supplying ideas for rhymes. ‘ The support, as the Witcher observed, was accompanied by several conspiratorial winks. Very well,’ he said finally, looking at the remains of the wagon being washed by the O’s lazy current. ‘\n",
      "You’ll catch up with us easily,’ Zoltan said, throwing his rucksack and sihil over his shoulder and adjusting the battle-axe in his belt. ‘ I wonder,’ Milva mumbled to Geralt when the depleted unit had set off, sent on its way by the waving of the four dwarves who were remaining behind, ‘I wonder what they have in those chests that needs burying in secret.’ ‘ Their future,’ the poet said, looking around to check no one could hear. ‘ Caleb Stratton plans to marry, but his fiancée’s parents have already driven him away once as a penniless bum.\n",
      "et’s keep to the course of the stream, and then…’ ‘That’ll do,’ Milva snapped. ‘ We know the rough direction,’ the gnome said, squinting up at the sun, which was suspended just above the treetops. ‘ Even though it’s carrying more water than usual after the recent rains, it can be forded. We’ll cut off the meanders by wading through the stream each time it blocks our way.\n",
      "owing the poet, he couldn’t count on any results, particularly since Dandelion had probably already blabbed everything he knew. ‘ If you found the girl then… The elves say that sometimes lightning can strike twice. Others, smoothly hewn, had been sculpted into obelisks and menhirs. Still others, standing closer to the centre of this stone forest, were formed into dolmens, cairns and cromlechs, in a way that ruled out any natural processes. ‘ They’re hunkered down there and do you know what they’re whispering? “ Perhaps we ought to go back,’ Dandelion suggested in a whisper. ‘\n",
      "metery, we’re stopping for the night, the first place we find.’ ‘ Not every necropolis is crawling with monsters and apparitions. An ancient dwarven incantation in ancient dwarven runes is engraved on my sihil,’ Zoltan growled, drawing his sword, ‘If just one ghoul approaches at a blade’s length, it won’t forget me. Ah,’ Dandelion, who had just joined them, said with interest. ‘\n",
      "You lot stay here,’ Geralt said, quickly drawing his sword from the scabbard on his back. ‘ We won’t touch a hair on your head,’ Zoltan added sweetly, raising his sihil above the hollow and rolling his eyes menacingly. ‘ Geralt shook his head and made a clear sign for the dwarf to withdraw.\n",
      "he asked, raising black eyes beneath slightly greying eyebrows towards Geralt. ‘ The scent betrayed you, master barber-surgeon,’ Geralt said, replacing his sword in its sheath. ‘ Among the stinking medicaments I can smell about you, would you have a remedy for blisters?’ ‘ But I spend my summers here every year, from June to September, from Midsummer to the Equinox.\n",
      "There’s a large camp less than two miles from here, by the River Chotla. So you simply live here, Master Regis,’ he drawled, ‘and stroll among the graves of an evening. A witcher,’ the barber-surgeon said, and looked at Geralt with obvious interest. ‘ True,’ the dwarf said, scratching his chin and watching the women from Kernow making their beds under some hagberry shrubs growing by the barber-surgeon’s shack. ‘\n",
      "You accepted the invitation to stay at his homestead at once, without hesitation, and now you’ve suddenly become as suspicious as an old maid being paid a compliment.’ ‘ The dwarf gave Geralt an old-fashioned look and finally made up his mind. The room was illuminated by the dim glow of burning coals in a curious, pot-bellied stove, resembling a bulging hourglass. It’s doubtful I would be familiar with the ingredients…’ ‘It is a distillate of mandrake,’ Regis said, dispelling any doubt. ‘\n",
      "Zoltan, Dandelion,’ the Witcher said, folding his arms on his chest. ‘ I appreciate your moderation, but in the current situation there’s little chance of me taking the elixirs to war-torn Dillingen. That should do,’ Zoltan said, picking up the flask and carefully scooping up moonshine from the pail. ‘ Ooooh…’ ‘Please forgive me,’ the barber-surgeon said, smiling again. ‘ Please forgive me, gentlemen,’ the alchemist said, acknowledging the gesture, ‘but I never permit myself any stimulants.\n",
      "bout Regis’s hospitality she initially shrugged, but in the end didn’t need much persuading. I’ve never seen it before,’ Dandelion confessed, turning a bulbous root around in his fingers. ‘ And I heard,’ the gnome said, downing the contents of the flask, ‘that when mandrake root is pulled from the ground the plant cries and wails as though it were alive.’ ‘ Why,’ Zoltan said, filling the flask from the pail, ‘if it only wailed!\n",
      "For in theory the rope ought to be enough, without the draught animal. The spells and curses should always fall on the rope, which after all is cheaper and less problematic to use than a dog, not to mention a pig.’ ‘ But what about that horrifying scream the plucked mandrake makes? That all depends on the class of pain,’ the barber-surgeon said, smiling slightly. ‘\n",
      "Only the dryads have medicaments capable of rebuilding bone tissue so quickly. The dryads’ magic reconstructed your damaged bone, but simultaneously caused a minor upheaval in your nerve trunks. You’ll continue to predict rainy weather unerringly for a long time to come. Belladonna is one of the preparation’s ingredients, which means a large number of alkaloids, including scopolamine. Go on, spin us a yarn…’ ‘Sit out your turn, Dandelion,’ the Witcher cut in coldly. ‘\n",
      "Like the story about you and an enchantress by the name of Guinevere.’ ‘ Tell them while you’re sipping the moonshine and embellishing the story suitably. Oh, you’re back at last,’ Zoltan said, pleased to see them, his voice now sounding quite different. ‘\n",
      "Zoltan belched loudly and scraped the flask against the bottom of the pail. ‘ Regis gave an expression of astonishment when it turned out that the final destination of the trek was not the enclave of the Mahakam massif, the eternal and secure home of the dwarves. He almost never moves, which is just as well, because he farts every time he does.\n",
      "give a damn about them, because he considers the dwarves who’ve settled in the cities apostates. There’s coal there, there’s magnetite ore, boundless deposits. Trip hammers and steam hammers…’ ‘There you go, Percival, neck that,’ Zoltan said, handing the gnome the now full flask, ‘before you bore us to death with your technology and engineering. Even if an exceptionally short-sighted king were to attack Mahakam, you’d flood the mines and head off somewhere else without any regrets.\n",
      "uld be safer in Mahakam than in the cities, then,’ Regis observed. ‘ He recently took it upon himself to regulate what he calls “community issues”. Whether you should eat carp right away or wait until the jelly sets. We’ve already secured ourselves a future…’ ‘A future, a future…’ the gnome said and emptied the graduated flask. Simply treat a maiden as you would a tree Whip out your chopper and one-two-three… ‘A cup…’ Percival Schuttenbach jabbered. ‘\n",
      "Because you ought to know, Regis, that Geralt has prophetic dreams! We’re going to Nilfgaard…’ Dandelion said, leaning against the dwarf to keep his balance, which turned out to be a bad idea. ‘ If the Countess de Lettenhove could see me like this…’ ‘Who?’ ‘ Bloody hell, this moonshine really does loosen the tongue… Geralt, shall I pour you another one?\n",
      "hey were closer, to the beat of the melody being played by the fiddles and the pipes. When they entered the music fell silent, dissolving in a long-drawn-out discord. The dancing, sweating peasants parted, leaving the dirt floor, and grouped together by the walls and posts. The Rats… The Rats… Robbers… ‘Fear not,’ Giselher said loudly, chucking a plump and chinking purse towards the dumbstruck musicians. ‘\n",
      "Ciri shook her hair from her forehead with a sudden jerk of her head and copied Iskra’s movements perfectly. The fiddles’ strings play a passionate tune, reaching fever pitch. The violins and pipes finish the melody on a strident, high chord, and Iskra and Ciri mark the end of the dance with a simultaneous bang of their heels, their elbows still touching. The barn explodes with one great bellow and the clapping of dozens of hands. ‘ The barn shudders from the noise, vibrates with the rhythm and the melody. A vampire, or upir, is a dead person brought to life by Chaos. Some, womenfolk in particular, stopped up their orifices with whole bulbs of garlic.\n",
      "As usual, the birds filled the grey and foggy dawn with an explosion of chirruping in anticipation of the sunrise. Emiel Regis turned out to be equally swift and energetic, joining the others with a travelling staff and a leather bag over one shoulder. The rest of the company, who had drained the still during the night, were not quite so lively. Zoltan and Dandelion lay in each other’s arms on a pile of mandrake roots, snoring so powerfully that they were making the bundles of herbs hanging on the walls flutter.\n",
      "Rather than answering, one of the peasants pointed out Milva’s horse to the rest of them. ‘ We have a vampire specialist in our company, a wi…’ He broke off and swore under his breath, because the Witcher had kicked him hard in the ankle. ‘ How can you hear him when he flies on bat’s wings, without a sound?’ ‘ The vampire tore the poor wretches to ribbons and drank all their blood!\n",
      "And anyway it’s an elven burial ground and every toddler knows that elves are a rotten, godless race, and every second elf is condemned to damnation after death! If I understand rightly, Miss Milva is reluctant to hand over her horse to a stranger…’ ‘You could say that,’ the archer said, and spat heartily. ‘ This requires a bold and strong blade; a maid’s place is in the kitchen, bustling around the stove.\n",
      "Milva took a quick step forward and her right fist shot out as fast as lightning. Now you see what use I am,’ the archer said, in a voice trembling with fury, rubbing her fist. ‘ Truly, there’s nothing like a fist-fight, which clears everything up. The peasants didn’t hurry to answer, but looked at Milva with their mouths wide open.\n",
      "They bite into an artery and drink the blood, leaving two clear fang marks. You must also know that ekimmas and fleders are never encountered in this climate.’ ‘ It may have been a striga, a harpy, a graveir, a ghoul…’ ‘Not a vampire?’ ‘ He’s most probably some kind of hermit, an illiterate anchorite from the wilderness. Have you never noticed a single vampire while you were gathering mandrake there?\n",
      "Once I spent two months living in a castle which was supposedly haunted by a vampire. The sound we can hear,’ Dandelion said, playing the wiseacre, ‘is the everyday symphony of a refugee camp. The solo parts are being performed by women squabbling, children bawling, a cock crowing and, if I’m not mistaken, a donkey, who someone’s poked in the backside with a thistle. Three dozen fancy words when three will do: it stinks of shit and cabbage!’ ‘ At first it was difficult to work out what was happening among the cacophony of men, women and children screaming, but finally all was explained.\n",
      "n travelling with them had found, respectively, a husband and a brother, whom they had believed to be dead or to missing without trace in the turmoil of war. He was counting on one of the women deciding it would be fitting to express a few words of gratitude and thanks to the dwarf. The freckle-faced little girl with the plaits had caught them up. Get away,’ Zoltan said, adorning his cap with the cornflowers the girl had given him. ‘\n",
      "wn by the ford to wait for Bruys, Yazon Varda and the others. Milva and Zoltan were incandescent, but Geralt, hoping to avoid a scene and the publicity it would lead to, calmed them down, while Dandelion contributed a few coins he dug from the depths of his pocket. Soon after Percival Schuttenbach showed up, dour and cross. ‘ They expect to be paid for everything here and the prices will take your breath away. Attempts at hard bargaining with the peasant selling oats didn’t achieve anything either.\n",
      "But among sentient races selection of that kind usually allows the biggest bastards to survive and dominate the rest. But I just saw him standing in front of an upright thill saying what a beauty she was. Ah, the bird’s hit the nail on the head,’ Zoltan Chivay drawled, tapping his axe, which was stuck into his belt. ‘\n",
      "Our camp elder, Hector Laabs, the headman from Breza, one of the villages that was burnt down.’ ‘ The ground beneath it was indeed teeming with excited people. Everyone says she consorted with a vampire and hexed people.’ ‘ They made their way through the crowd, not without the help of Zoltan and his ashen staff.\n",
      "Ha, just look at her, people, she’s overindulged in some devilish herbs! Unless we can find someone,’ Milva growled, ‘who’ll stop that black-robed ass.’ Now you see to what evil the familiarity with sorceresses has led us! Verily,’ the priest roared, ‘I say unto you, before we join battle with Nilfgaard, let us first purge our own house of these abominations!\n",
      "The girl who was bound to the wagon laughed hysterically and rolled her eyes. ‘ I’m not refitting anything,’ the giant replied, then he spat on the ground and hitched up a pair of coarse britches. ‘ If it turns out that she is in league with a vampire, take her and kill her. To have immoral relations with him and hatch more iniquities!\n",
      "Fur shining like anthracite, eyes like two chrysoberyls, long whiskers, and a tail as thick as a mechanical’s tool! Percival Schuttenbach cleared his nose and wiped his fingers on a trouser leg. ‘ I tell you she will confess to the crimes of witchcraft herself. Trial by ordeal,’ Geralt repeated to complete silence from the crowd, ‘is utterly certain and utterly just.\n",
      "You wish to conduct a trial of ordeal with your criminal sword?’ ‘ Very well, you good-for-nothings, I invite all three of you to the trial by ordeal which will soon take place. We shall establish the hag’s guilt, and test your virtue at one and the same time! The hostile rumble of Elder Laabs and his group was drowned out by the enthusiastic cries of most of the people gathered behind the priest. Yes, I do,’ the archer snapped back softly, looking at the glowing coals. ‘\n",
      "right hand, totally unharmed, first to the priest, and then, holding it up high, to everyone else. the priest shrieked, waving an amulet in front of the barber-surgeon’s nose and tracing cabbalistic signs with his other hand. ‘ The wagon, however, suddenly lurched and moved off, and the Witcher and the poet fell to the ground. Only four people did not panic, although to tell the truth one of them simply had no choice.\n",
      "The Witcher could no longer see anything, though neither did he have time to watch since he was busy rescuing Dandelion, whose legs had been swept from under him again by a stampeding hog. I can’t,’ the Witcher groaned, blinded by the precious flour, seizing in both hands his knee, which had been shot through by an overwhelming pain. ‘ Geralt asked, trying desperately to clean the flour and chaff from his eyes. The first thing he saw in the cloud of dust were dozens of horses’ fetlocks crashing up and down.\n",
      "It’s your business and your tastes, and nobody else’s, as long as you do it discreetly and quietly. Don’t be sorry,’ Giselher said, looking at Mistle’s stern expression. ‘ The mounted crossbowmen with Temerian lilies were rounding them up with loud shouts. The Witcher was a little surprised, since ordinary cats couldn’t bear his presence.\n",
      "in this camp, who’ve taken fright at Nilfgaard and lost the taste for army bread! There’s a three-pointed label on the shield’s chief, so you must be the eldest son of Anzelm Aubry. And you, strident Sir Knight, what do you have on your silver shield? the bard said, puffing himself up and paying no attention to the Witcher. ‘\n",
      "ll you that if you narrow your eyes and stick your lower jaw out you look manly, doughty, dignified and menacing? Dandelion fell over twice and was dragged along on his belly, yelling pathetically. Only one thing was encouraging; the road they were being driven along was heading south. Geralt was thus journeying in the right direction at last and pretty quickly, at that. Beyond the ring of guards, hitching bars and smoking campfires they saw knights’ tents adorned with pennants, surrounding a large and bustling field beyond a ruined and charred stockade.\n",
      "said Dandelion to Geralt, while he rubbed his wrists, which were numb from the bonds. ‘ Please forgive the overzealousness of these youngsters,’ said the knight who had been addressed as a member of the nobility. ‘ We crossed the Ina, put to the sword a few Nilfgaardian forays and Scoia’tael commandos who were lighting fires. You can see what remains of the garrison in Armeria, who we managed to free.\n",
      "I am King Foltest’s liaison officer, and a goodly number of the Temerian nobility are serving here with detachments, which bear lilies on their shields as a formality. But the main part of this corps consists of the subjects of another kingdom. Allow me, Your Lordship, to introduce you to…’ ‘That won’t be necessary,’ Marshal Vissegerd interrupted hoarsely, looking piercingly at Geralt. ‘ That scoundrel there,’ Vissegerd said, pointing at Geralt, ‘played his part in giving Pavetta, the daughter of Queen Calanthe, in marriage to\n",
      "From that mongrel union was subsequently born Cirilla, the subject of their reprehensible conspiracy. For you ought to know that Duny, the bastard, had promised the girl to the Witcher in advance, as payment for facilitating his marriage. And Redania’s secretary of state, Sigismund Dijkstra…’ Dandelion suddenly fell silent, recalling that Dijkstra was in no way suitable as a defence witness in the case; and neither were references to the mages of Thanedd likely to improve the situation to any great degree. ‘ What utter nonsense it is,’ he continued loudly and quickly, ‘to accuse Geralt of kidnapping Ciri in Cintra!\n",
      "Ciri, whichever way you look at it, has a right to the throne.’ ‘ Like Cirilla’s great-grandmother, Adalia, who lay with her own cousin; like her great-great-grandmother, Muriel the Impure, who debased herself with everyone! Much more of that and he’d have throttled me… Could you loosen my bonds somewhat, My Lord?’ ‘ When you alluded to the soldiers’ loyalty you unwittingly rubbed salt in the wound, Master Poet.’ ‘\n",
      "from Cintra, so that Calanthe’s descendant would regain the throne. Calanthe’s blood is returning to the Cintran throne in triumph and glory…’ ‘As a puppet in the hands of Emhyr, who kidnapped her.’ ‘ Should another few hundred desert, King Foltest will deprive him of his baton. Why, Vissegerd doesn’t know my lineage… In short, I’m related to this Cirilla.\n",
      "marshal–not only will I not question his decisions or orders–I shall actually support them. But he will not lift a finger when Vissegerd sentences us.’ ‘ As for Master Dandelion, I shall try to…’ He was interrupted by the return of Vissegerd, still red-faced and panting like a bull. We wanted to use him, but he escaped, slipped through our fingers, leaving nothing on them but blood. We received reinforcements in the form of three squads of Verdenian light horse, which I assigned to the Vreemde Battle Group. The glorious trail of fire of the 7th Daerlanian Cavalry Brigade\n",
      "First she was swept along by the frantic, panic-stricken crowd, then the road was obstructed by careering wagons, and finally she became stuck in a woolly, bleating flock of sheep, through which she had to force her way as though it were a snowdrift. Tough luck, she thought, feet squelching in her wet boots as she ran, the others will have to cope without me for now. When he heard and then saw Milva over his shoulder, he jumped off without a second thought and bolted into the undergrowth, holding up his britches with both hands. A skilled horsewoman, she managed to force the gelding to gallop. To be precise, it wasn’t her luck that was to blame, more her own conceit and her conviction–based on shaky practical evidence–that she could beat up any brace\n",
      "of peasants she happened to meet, in whatever manner she chose. Stunned and blinded, she still managed to grab the knee of the peasant beating her with the remains of the stick, when he unexpectedly howled and keeled over. The other yelled too, bringing both hands up to protect his head. She sprang up, dealing a powerful kick to the neck of the prostrate peasant. I knew I’d have the chance to give you back your arrow, elf,’ he said calmly. ‘\n",
      "The riderless chestnut came running past us…’ ‘I had a minor adventure,’ he answered drily, ‘with three brigands, as shaggy as werewolves. There’s something horrible about this place,’ she said softly, tightening her grip on the bow. ‘ Devil take me if I understand it; instead of going back to your own you’re tracking the Witcher. But now that his face was gashed by a hideous diagonal scar deforming his forehead, eyebrow, nose and cheek, nothing remained of his elven good looks. I’ve been fighting humans for four years and leading a commando for three.\n",
      "I considered and consider Nilfgaard an ally,’ the elf with the scar repeated, ‘which is why I did not, initially, believe my informant when he warned that a trap was being laid for me. I didn’t believe but, being cautious by nature, I turned up for the rendezvous a little earlier than expected and not alone. And now,’ Faoiltiarna continued, wiping his sweaty neck with a scarf, ‘let’s have a little chat, Master Kidnapper. I am an officer of the imperial military intelligence, a subordinate of Lord Vattier de Rideaux, Viscount of Eiddon!\n",
      "Particularly since we’ve already made a start, and in matters like these that’s usually the most difficult part. The unit which was sent to the designated rendezvous point was slaughtered… Cahir was not among the dead…’ ‘Ah. Although it was kept absolutely confidential, I knew… I knew who Vilgefortz and Cahir were supposed to capture on the island. Because they brought that… you know… that princess from Cintra to Loc Grim.\n",
      "That a sham princess had been brought to Loc Grim…’ The spy struggled to breathe, nervously gasping for air through lips covered with maple syrup. ‘ A moment later the mastermind of the unsuccessful ambush was standing with head lowered before the legendary Scoia’tael commander. The plan was presented as one having the full support of Imperator Emhyr, Vattier de Rideaux and Stephan Skellen; otherwise I should not have agreed to collaborate with Dh’oine–sorcerers or not–for I have seen too many entrapments in my life. Fortunately, we were ready, because the moment we left the catacombs we were plunged into hell.’\n",
      "eral mages who were party to the conspiracy also perished, while others began to save their skins and teleport away. He was wounded and unconscious; it was clear he had not accomplished the mission he had been assigned. He demanded a horse and ordered us to return him to the island, citing the imperial orders, which under the circumstances I had to treat as the ravings of a madman. As we knew, war was already raging in Aedirn, so I considered it more important to swiftly rebuild my depleted commando and resume the fight against the Dh’oine.’ ‘ I was not, I admit, inclined to further deplete my commando by providing an escort.\n",
      "officer and his torturers would actually do more harm than good. I trust that neither Lord de Rideaux nor Stephan Skellen will want to set any more traps for me. I do not have the time nor the desire to make such an investigation. I was always taken as an oddball and a rebel,’ Fringilla Vigo chuckled. ‘\n",
      "r at court…’ ‘I’m seldom at court,’ Assire cut her off, ‘and the academy will have to get used to it. A simple spell,’ the enchantress replied coolly, ‘ought to be enough to prove it’s me and no doppelgänger. I asked something of you…’ Fringilla Vigo stroked the cat, which was rubbing himself against her calf, purring and arching his back, pretending it was a gesture of friendship and not a veiled hint that the black-haired sorceress should get up from the armchair. ‘ Prisoners of state, as you know, are often kept in Darn Rowan.\n",
      "week after the aforementioned audience in Loc Grim, when victory at Aldersberg was being celebrated, Emhyr noticed myself and Albrich in the castle chamber. Stella happens to be indebted to me for various reasons, so it was easy for me to come by a second lock of hair. Nonetheless, the locks belong to two totally different people. I had expected a revelation of this kind,’ Assire var Anahid admitted, ‘when I heard that the Cintran had been shut up in Darn Rowan. First of all, it wasn’t Xarthisius who found the Cintran or took her to Loc Grim.\n",
      "Emhyr is quick-tempered, but he never sentences anyone to torture or death just like that, without evidence. Did he fear Emhyr would notice the deception at first glance? Don’t get mixed up in any dirty business, because it might draw attention to you. That what was needed was some kind of… secret organisation… Something like a convent or a lodge…’ ‘I am ready,’ said Fringilla Vigo, Nilfgaardian sorceress, breaking the short silence. ‘\n",
      "See the silver scorpion on his sleeve…’ ‘By the Gods…’ The girl shuddered and gripped her bow tightly in her sweating fist. ‘ Yes, it’s me,’ the barber-surgeon replied, noiselessly emerging from the gloom, ‘I was worried about you. Because we’re to be executed publicly, at dawn, while the entire corps are mustered before moving out. The poet’s idle chatter prevented the Witcher from gathering his thoughts, and he had no time to waste.\n",
      "Intelligence officers would surely be interested in asking him about various aspects of the events in Garstang on the Isle of Thanedd. Intelligence officers might want to free the captives from the clutches of the furious marshal in order to take them to headquarters. Over there,’ the barber-surgeon said, indicating the small dots of campfires, ‘is Fort Armeria, at present the camp of the Temerian Army concentrated at Mayena.’ ‘ The gelding gave a long snort and pulled his head away, clearly disgusted by the barber-surgeon’s herba\n",
      "You’ll be waiting with the horses where the river’s sparkling, do you see? Once I’ve got the Witcher out of trouble I’ll point him in that direction. Cahir muttered to Milva when they came close to each other, dismounting. ‘ Not before midnight,’ the barber-surgeon said coldly, looking up at the moon. ‘\n",
      "A moment later Dandelion gave a moan of pain as his circulation returned, but dutifully tried to suppress it by sticking his fist into his mouth. ‘ Geralt,’ the barber-surgeon said, his vague, wavering shadow materialising at the Witcher’s side, and immediately began to cut his bonds. ‘ They crossed the field, keeping their distance from the soldiers crowded around glowing braziers and campfires. He repeated to himself that there was nothing strange in that: they hadn’t drawn attention to themselv\n",
      "es in the middle of a military camp that was busy even at night, and the only danger had been that of the alarm being raised, should someone notice the sleeping sentries at the door to the woodshed. I’ll just sit down and get me boot off, because there’s…’ He didn’t manage to say anything else. The one who’d asked for the password tore the lining from the inside of a bootleg. However, there was no one to do any boot-pulling or summoning, because half the guard dropped on their knees to search for the doubloons scattered among the leaves while the other half immediately began fighting furiously over Dandelion’s second boot.\n",
      "Dandelion needed no encouragement to spring up and dash through the bushes, his footwraps flapping. His astonishment didn’t last long; one careful look was enough. Dandelion yelled, then Geralt looked around and saw the dark wall of Nilfgaardian troops beginning to extend black tentacles of pursuit. Without hesitating he steered the horse towards the camp, overtaking the fleeing guards.\n",
      "The hail of arrows and quarrels, which was raining down on both armies and had proved to be so disastrous for Dandelion, was also their salvation. The armies under fire seethed and lost momentum, and the gap between the front lines which had been about to draw together remained open just long enough for the heavily snorting horse to whisk the two riders out of the trap. But not because he wanted to sacrifice himself for his friend. The leading rider, who had pulled ahead, flew at him with a raised battle-axe, but had no way of knowing he was attacking a witcher. He caught the man by the throat, but couldn’t throttle him because of his iron gorget.\n",
      "were lucky… It only grazed you…’ ‘I’m bleeding…’ Geralt removed his jerkin and tore off a shirtsleeve. The point of the quarrel had caught Dandelion above the ear, leaving a nasty-looking gash extending to his temple. Geralt quickly caught two Nilfgaardian steeds, but it turned out one was sufficient. Oh, I hope Regis didn’t mess up—’ ‘Don’t tempt fate,’ Cahir muttered, adjusting the girth of the recovered chestnut colt.\n",
      "If it isn’t Ciri in Nilfgaard,’ she said after a long silence, ‘then who is it?’ ‘ Drakenborg, the Redanian fortress converted into an internment camp for elves and other subversive elements, had some grim traditions, which had evolved during its three years of operation. The remaining condemned convicts, also in keeping with tradition, sang the Clowns’ Anthem over and over again, a song composed in Drakenborg by an unknown author. The bolt rattled, the key grated in the lock and the Clowns stopped singing.\n",
      "zarian knew Baldenvegg had been imprisoned on charges of acts of sabotage, carried out on the instructions of the Nilfgaardian secret service. They could not dance a jaunty jig, since they were not hanged from a gibbet with a cross beam, but from ordinary posts sunk into the ground. In Drakenborg the executions were never carried out in public. The elf from Iorweth’s commando shook the warders’ hands off, stepped onto the block without hesitation and allowed the noose to be placed around his neck. ‘\n",
      "Millet was killed there, but the half-breed Schirrú murdered the two jurists and set their house on fire. The felon Nazarian further testified that his accomplice Schirrú stole some documents from the jurists, which were later delivered to Ryens at an inn called the Sly Fox in Carreras. The commandant, as testified by the felon Nazarian, was greatly content with these tidings. Vascoigne signed the report with a flourish, affixed a seal and summoned the messenger. Milva had just set about changing the blood-soaked makeshift d\n",
      "ressing when she felt a hand on her shoulder and smelled the familiar scent of wormwood, aniseed and other herbs. I can’t detect in it the smell of infection, which with a head wound could have disastrous consequences. The main arteries and veins are intact… This will sting a little.’ I’ll put in a few stitches,’ Regis said, continuing to ignore both the Witcher and his sword. ‘ I have lived on this earth for four hundred and twenty-eight years according to your reckoning, or six hundred and forty-two years by the elven calendar.\n",
      "And now I’ve encountered a witcher, who earns his living eliminating creatures such as I. And that’s it.’ ‘ A witcher ought to make use of every opportunity to eliminate dangers of this kind.’ ‘ And now,’ Geralt said, spinning around, the unsheathed sword still in his hand, ‘it’s your turn, Nilfgaardian…’ ‘No,’ Milva interrupted angrily. ‘\n",
      "exploded with red sunlight, blindingly sparkling on the surfaces of small lakes overgrown with water lilies, and they turned towards a point where one of the Ina’s numerous branches flowed into the Yaruga. Dandelion moaned a little from time to time, swore and complained that his head was hurting, but held out bravely, without slowing down the march. And happened upon an island, a dry spot among the marshes and tussocks of grass between the river’s numerous offshoots. Early this morning I let a higher vampire go, even though he is certain to have several human lives on his conscience. Your revelations, which Milva has told me about, don’t change anything.\n",
      "Like you, I don’t care if that surprises or astonishes anybody. Ciri is dancing on a table in a barn and is happy…’ ‘Milva has told you about my dreams.’ ‘ Because I seriously doubt that you’d want to tell anyone about it.’ After dismounting and being given beer, they immediately entered noisy negotiations with traders and fences. These two set off among the stalls, which, as usual, covered the village green.\n",
      "moved closer, pretending to be looking at the straps and belts on a leatherworker’s stall. Servadio felt a shudder, a cold trickle running between his shoulder blades. And were the prefect to set a successful trap thanks to his information, Servadio could count on a considerable injection of funds. The thieves exchanged several provocatively loud comments and cackled with glee. Mistle squinted and placed her hand on the flaxen-haired girl’s shoulder. ‘\n",
      "d her sword flashed and struck before the candyfloss she released had hit the ground. A second thief leant over and drew a knife from his bootleg, but at the same moment slumped, struck by Giselher with the metal handle of his knout. ‘ According to the laws of our brotherhood, I’m paying for the man who was killed. He was looking at the cormorants sitting on the shit-covered tree. They had managed to find a copper cauldron and a trug of vegetables under some nets in the boat which had been washed up by the current.\n",
      "Milva will lead you through the forests… What’s the matter?’ ‘ I don’t want you to risk your necks for something that only concerns me.’ ‘ You’ve forgotten to swap your empty head for one with a brain.\n",
      "Advice is superfluous to you, allies are superfluous, you’ll get by without any travelling companions. More than that, the nature of the goal demands that you accomplish it alone, in person. A sense of guilt, as well as the need for expiation, for a cleansing baptism of fire, aren’t things you can claim an exclusive right to. We have enough of these tiddlers and we have salt,’ Dandelion said, counting out the list of ingredients on his fingers. ‘\n",
      "If you’re such a scholar,’ Milva said, blowing on the fire again and getting to her feet, ‘use your brain to get these tiddlers gutted. This soup’s going to be thin,’ Dandelion said, hanging the cauldron over the fire. ‘ Regis, chuck all the fry into the cauldron, heads and tails and all. The Witcher got up obediently and joined them, but stayed ostentatiously well away from Cahir.\n",
      "Ignorance’–Regis smiled–‘is no justification for ill-conceived actions. I say “thank you”,’ the Witcher said, getting up with difficulty and rubbing his knee, which had begun to torment him again. ‘ And when the circumstances are examined, we come to the conclusion that we are facing an insoluble problem. Until recently,’ the vampire continued, ‘we thought Ciri was in Nilfgaard.\n",
      "tcher insists on going south…’ ‘For him’–Regis laughed–‘the points of the compass have no great importance. The world is full of evil, so it’s sufficient to stride ahead, and destroy the Evil encountered on the way, in that way rendering a service to Good. Perhaps he’ll realise the only activity that’s worth doing alone is wanking.’ What a company I ended up with,’ Geralt continued, shaking his head. ‘ I suggest we travel incognito, to avoid arousing suspicion.’ ‘ You shall remember Lara Dorren and her curse in the hour of your dreadful death. And when a severe frost descended in the night, Lara breathed her last on the forested hilltop, giving birth to a tiny daughter, whom she protected with the remains of the warmth still flickering in her.\n",
      "‘I asked you,’ Ciri, who was lying on her back, snapped angrily. ‘ Or if you’ve left anyone behind…’ Ciri brought a hand up swiftly to her neck, but this time it was only a ladybird. ‘ But before she had time to say anything, there was a whistle.\n",
      "Francesca Findabair, also called Enid an Gleanna, the Daisy of the Valleys, waited until the door was closed behind Vattier, and stroked the ocelots. ‘ The ocelots only reacted with a slight widening of their eyes. It wouldn’t show us in a very favourable light… And we want the lodge to come into being. And playing with fire: with the White Flame of Nilfgaard…’ ‘Fire burns,’ Ida Emean said, raising her heavily made-up eyes at the queen, ‘but it also purifies.\n",
      "Sheala de Tancarville,’ she finally said, ‘is a secretive recluse, without any loyalties. And the other Nilfgaardian, whom we shall meet in Montecalvo?’ ‘ Francesca Findabair checked one more time that the entire courtyard was thoroughly isolated from the rest of the palace by a protective field, which hid it from view and muffled its sounds. Francesca opened a jewellery case, removed a small, waxy jade figurine from it, and placed it precisely at the centre of the pentagram. Those streaks of light shot towards the figurine, which immediately changed colour from green to gold, and a moment later became transparent.\n",
      "mered with magical energy, which struck against the protective field. A moment later a human body suddenly manifested in the centre of the magical circles. The woman–a moment earlier a jade figurine–was suffering, that was obvious. She choked, began to splutter, cough and spit, until finally, parting the water lilies, she waded to the marble naiad and sat down, leaning back against the pedestal of the statue. The water in the pool will need changing, Enid,’ she mumbled. ‘\n",
      "Hell’s teeth, Enid, I really don’t know what I did to deserve this…’ ‘Get out of the pool.’ ‘ I must have wronged you greatly,’ Yennefer said a moment later. ‘ Tissaia de Vries has committed suicide, and you’ve become queen of the Valley of Flowers. First explain something else to me: the Witcher was also on Thanedd.\n",
      "‘your Witcher did more than some manage in their entire lives. I didn’t break anything of Dijkstra’s… Oh, keep quiet and let me guess. For a war is raging, and disinformation is a weapon whose blade must always be kept sharp. Well, Mistress Ida, free lady of the Aen Seidhe from the Blue Mountains, have I correctly guessed what’s in store for me? You have my undivided attention,’ Yennefer said, touching the obsidian star hanging from its\n",
      "The Daisy of the Valleys rested her chin on her interlocked hands. ‘ We shall be taking part in a session of an organisation that ought to interest you. Will I find sufficient strength of character to rid myself of my grudges against the people who took Ciri from me, cruelly beat a man who is dear to me, and packed—’ ‘I am certain,’ the she-elf interrupted, ‘that you will find sufficient strength of character, Yennefer. Neither are you lacking in ambition, which ought to dispel your doubts about the honour and the advancement which has come your way. Agreed,’ Yennefer said, vigorously scratching a shoulder blade.\n",
      "You will be asked to give an account of your relationship with Ciri. I’m not even familiar with the statute or programme of this new institution…’ ‘Yennefer,’ the she-elf interjected, frowning slightly. ‘ Trust me; by doing so you’ll be helping Ciri much more effectively than by plunging headlong into a whirl of events, which, I’m guessing, you would love to do. Fringilla Vigo was putting on a brave face, but she was anxious and stressed.\n",
      "lips and eyes glistening from the effects of alcohol and narcotics. Instead the Nilfgaardian enchantresses were welcomed by Philippa Eilhart, the lady of the castle; tastefully dressed, grave, courteous and businesslike. Philippa Eilhart’s tactful comments and observations swiftly and adroitly broke the ice, although the only ice in the vicinity was on the food table, which was piled high with a mountain of oysters. The conversation was accompanied by the greedy consumption of oysters.\n",
      "The teleportal between the columns flared up and vibrated audibly. Only Vilgefortz is missing,’ Sabrina Glevissig hissed quietly, but with unfeigned anger, looking askance at Yennefer. ‘ However, the source of the greatest emotions was, unsurprisingly, the third of the new arrivals: Yennefer, dressed in black and white and with raven-black hair, who was no elf despite first impressions. Her arrival in Montecalvo must have been an immense surprise, and a not entirely pleasant one. They were tired and had dark circles around them, which even her make-up was unable to hide. ‘\n",
      "In which case there can be no mistake,’ Fringilla Vigo said and raised her head proudly, sweeping her eyes over all those present. ‘ On Assire’s left sat Ida Emean, Francesca Findabair and Yennefer. She was somewhat disconcerted, however, that those first voices related to the war the Empire was waging with the Nordlings, and in particular the operation in Sodden and Brugge which had been begun a short time before, during which the imperial forces had clashed with the Temerian Army. Some were clearly anxious about the close proximity of Nilfgaard.\n",
      "How many of those who are reigning now will be alive in a hundred years? Tissaia de Vries would have expressed it differently,’ Francesca Findabair said. ‘ But I don’t think she would have agreed with the theory that war is a remedy for famine and overpopulation. I’d gladly applaud the idea of looking ahead and treating today as ephemera. After all, there will always be lilac shrubs; if not that one, then another.\n",
      "We are here to discuss the future of magic,’ Sabrina Glevissig repeated. ‘ Or to feverishly search for solutions appropriate to the situation at hand, changing the colour of our skin like chameleons. If I understand correctly,’ Sheala de Tancarville said, raising her head, ‘you are persuading us to actively influence the course of events. I have in mind the Kingdom of the North, which the Kingdom of Kovir is today evolving into.\n",
      "Yes, here, at this table, in this vacant seat, we shall place the lodge’s twelfth sorceress. There also exist,’ Margarita Laux-Antille added, ‘obstacles of what I would call a technical nature. And Kovir itself, without any apparent pressure from us, must also choose her as the wife of the heir to the throne.’ ‘ It’s unthinkable that any of them could occupy the twelfth, empty seat at this table.\n",
      "abilities are and will be known only to us: Cirilla, daughter of Princess Pavetta of Cintra, the granddaughter of the Queen Calanthe called the Lioness of Cintra. The horseman was quick and agile and managed to strike again. He involuntarily covered his head with his left hand and she deftly turned the sword around in her hand and slashed him in the armpit, a cut she had practised for hours at Kaer Morhen. The coachman threw down the reins and also begged for his life, his hands placed together as though in prayer.\n",
      "And the coachman and postilion,’ Kayleigh said, grinning at the woman and the girl, ‘will pull the carriage to town, once we’ve harnessed them up. We just have some fun with them occasionally, if they have a yen. She placed a foot on the carriage steps, staring at the brooch on the pale girl’s dress. ‘\n",
      "lost in conjecture, mainly centred on a certain lock of hair. She recounted Geralt’s role and the Law of Surprise, and the destiny linking the Witcher and Ciri. Since they couldn’t have known who Emhyr had brought to Nilfgaard. Or is it that they’ve known all this for a long time, perhaps even better than we do? Yennefer will soon reach Ciri’s arrival on Thanedd, and the prophecy she gave while in a trance, which sowed so much confusion.\n",
      "and why she suddenly appeared here, in Montecalvo, with Francesca. Ciri; the Queen of the North to them, but the flaxen-haired witcher-girl of Kaer Morhen to me. The strong emotional relationship between Yennefer and Ciri–whom everyone found so fascinating–was clear as day. History, Fringilla thought, with an astonishing sense of hurt. It’s easy to blame the dead,’ Sabrina Glevissig snarled, but Philippa quietened her with a sharp gesture. ‘\n",
      "Three days before the conclave began,’ Margarita Laux-Antille replied. ‘ Because that is what elven legends, myths and prophecies demand?’ The genetic material called the Elder Blood, of which we are talking, turned out to be a little less hardy, however,’ Sheala de Tancarville observed. ‘ I only studied your mythology cursorily and have never come across that legend.’ ‘ In order to test my honesty and loyalty to the lodge,’ Enid an Gleanna said, nodding. ‘\n",
      "e, a Sage, one of the carriers of the Elder Blood, which is even mysterious to we elves. With the wisdom of hindsight, there were also feuds of a personal nature at work: jealousy and envy. Had Cerro not adopted the child, terrible calamities would have fallen on her and her entire family—’ ‘Those are precisely the fantastic ornaments Francesca has dispensed with,’ Philippa Eilhart interrupted. ‘ Fringilla, who had never heard of Falka or the rebellion, raised her eyebrows.\n",
      "Falka,’ Enid an Gleanna picked up after a while, ‘gave cause to be remembered five-and-twenty years later, when she launched an uprising and murdered her own father, Cerro and two of her stepbrothers, allegedly with her own hands. Falka, who had inherited her looks more from her elven grandmother than her mother, had generously bestowed her charms on all her officers in command, from the noblemen to ordinary captains and thugs; by so doing ensuring their faithfulness and loyalty to her. She finally fell pregnant and gave birth to a child, precisely at the same moment that Riannon–who was imprisoned in Houtborg–had twins. I repeat, most likely, since in spite of Falka’s boast the children were suckled by ordinary, peasant wet nurses.\n",
      "Yes, the triplets were occasionally brought to her bed and shown to her. And that gene was found in Riannon, when you examined her and the king before studying the children,’ Sheala de Tancarville stated. ‘ More lowborn loudmouths made the acquaintance of the whipping post and the horsewhip. There was even a baron from an ancient family, who Adela shot in the backside with an arrow, who confined himself to—’ ‘That’s enou\n",
      "gh about the children’s pranks,’ Philippa Eilhart interjected. ‘ For the King of Cintra, Coram, was showing an interest in the last of the famous triplets: Princess Fiona. I don’t know if he believed us, but the young couple grew to like each other and thus Riannon’s daughter, Ciri’s great-great-great-grandmother, became the Queen of Cintra.’ ‘ Their father must have been Amavet, for the baby girl was a carrier.\n",
      "t wait—’ ‘It activates later, however,’ Philippa Eilhart broke in. ‘ Fiona’s latent gene would probably also have vanished in her male descendants at most in the third generation. I apologise for this vulgar display of psychokinesis,’ she said with a smile, making a red apple rise high above the table. ‘ As you have observed, in two successive generations there are exclusively male descendants.\n",
      "And Pavetta’s daughter, Cirilla, the sole inheritor of the Elder Blood, carrier of the Lara gene.’ ‘ The crossbreeding of races, the blood of forgotten ancestors returning in later generations. So this is what Yennefer and Francesca have in common, Triss thought feverishly, still avoiding her close friend’s gaze. Indeed, their plans for Ciri and the Prince of Kovir, although apparently improbable, are actually quite realistic. Those who didn’t want children, but ought to have them, were given placebos of liquorice water instead of the promised agents.\n",
      "round Sabrina Glevissig’s neck is probably worth almost as much as the entire income of forested, rocky Kaedwen. They alone were capable of tracking down the gene and making Emhyr aware of its significance. An observation as blunt as it is apt,’ Sheala de Tancarville said, silencing with a glance Sabrina, who was preparing a riposte. ‘ But for the moment it’s not about him, but about the fact that Emhyr var Emreis, Imperator of Nilfgaard, has Ciri–and thus the Elder Blood that is so important to us–in his grasp.’ ‘\n",
      "So it was Vilgefortz,’ Sabrina said, slamming her fist down on the table. ‘ Yennefer knew who it was and involuntarily clenched her fists. However, Triss–whose gaze she was trying to attract–was avoiding her eyes. Shit, how will I ever be able to look the Witcher in the eye…? ‘ Belly and womb cut open,’ he diagnosed, struggling to maintain his calm and a cold tone. ‘\n",
      "They will be difficult to identify… But, sire, apart from this… we found…’ ‘Speak. The only thing left unaffected in the chamber was a table with a metal top and two curious chairs set into the floor. They are constructed,’ Lennep said swallowing, and pointing at the chairs and the clasps attached to them, ‘so as to hold… the legs… apart. Damned bastard…’ ‘We found traces of blood, faeces and urine in the gutter beneath the wooden chair,’ the agent continued softly. ‘\n",
      "In no way do I disregard Dijkstra or his secret service,’ Sheala de Tancarville said. ‘ Tor Lara,’ Ida Emean said slowly, ‘once concealed a very powerful teleportal. If Ciri entered the teleportal in the Tower of Gulls,’ the rectoress of Aretuza said in a slightly altered voice, ‘I fear we can forget our plans and projects. Is it so important,’ Stephan Skellen, also called Tawny Owl, the Coroner of Imperator Emhyr var Emreis said, stretching, ‘what potential she holds, Master Bonhart?\n",
      "have no need of Falka’s head, you won’t, I imagine, have anything against my adding it to the set.’ ‘ Honoured sir,’ Bonhart said, narrowing his eyes, ‘I am not paid for killing, but for the service I render by killing. After all, you don’t take money for killing, but for services rendered. And doubtlessly sensed that Yennefer’s loyalty was still wavering.\n",
      "She stood at the far end of the food table, devoting herself to oysters. Friendship is either the result of a lengthy process or is spontaneous.’ ‘ The same goes for enmity,’ Yennefer said, opening the oyster and swallowing the contents along with some seawater. ‘ No doubt,’ Yennefer said, nodding, ‘that’s what everyone thinks. The girl you treat as a daughter has disappeared, is possibly being imprisoned… perhaps her life’s in danger.\n",
      "A blockade, as you have deigned to observe,’ Yennefer whispered, looking into the Nilfgaardian sorceress’s eyes, ‘is a very bad thing. An operation of that kind demands time and is too conspicuous. She’ll fly straight to—’ ‘Nonsense,’ Triss Merigold interrupted animatedly, looking at Francesca and Ida Emean. ‘ And how could I possibly know,’ she whispered back, ‘which coast these oysters came from?’ I. was also supposed to have prophesied the climatic changes observed from the end of the thirteenth century, known as the Great Frost, which superstition always claimed was a sign of the end of the world and linked to the prophesied coming of the Destroyer (q.v.).\n",
      "The children gathered in a ring around the wandering storyteller Stribog showed their disapproval by making a dreadful, riotous uproar. Just drive him off, the old gimmer, because nothing comes from his tales but woe and trouble—” ’ ‘They won’t say that!’ But here’s the bargain: one of you’s to hurry over to the cottage and fetch some buttermilk for me to moisten my throat. And you, old man, don’t talk about Yennefer, but about Ciri and the Rats, when they went a-robbing and beat up—’ ‘Quiet,’ Connor said, glum and pensive. ‘\n",
      "Or I’ll get a stick and give you a thrashing, you little snots! Yennefer’–Stribog giggled–‘flew from the enchanted castle, which was called Bald Mountain, using a spell. Convinced he had kidnapped Ciri, she vowed to track him down, exact a terrible vengeance and free Ciri. The worst of everything that hides in a person emerged from her and slowly got the upper hand.\n",
      "Geralt the Witcher,’ the storyteller began, ‘set out with his company towards the bogs and forests of Angren. Dandelion followed behind Regis and Geralt on Pegasus, with a bandaged head and a warlike mien. On the sunny slope brambles were black with fruit and the horses found grass to eat. When night fell, they were able to make a fire and even lie beside it.\n",
      "Ah,’ the Witcher said, laying a handful of brushwood on the ground. ‘ You aren’t talking to Yennefer; you can drop the tortuous eloquence. He didn’t even lick his fingers after he’d finished applying the dressing. He took that red-hot horseshoe from the fire,’ Dandelion recalled. ‘\n",
      "He can bewitch with his gaze, and put someone in a deep sleep. He’s already surprised me a few times, so he might still have something up his sleeve. If… and I’m asking purely theoretically… If…’ ‘I don’t know,’ the Witcher replied honestly and frankly. ‘ he suddenly called as they were riding, sneaking a glance at the vampire. ‘\n",
      "lay, roasted and ate it, gnawing even the tiniest bones clean. The poet’s chatter became a monologue, so obviously apparent that even he finally noticed it and stopped talking. In spite of the late hour no one seemed to be getting ready for bed. I don’t know any other custom,’ Milva said drily, placing another arrow in the steam rising up from the pot. ‘\n",
      "I didn’t want to spoil the party, and the thought of losing social approval terrified me. Occasionally I went on such benders that I didn’t return to the crypt for three or four nights in a row. Later on,’ Regis continued, ‘more alarming symptoms appeared. I smashed straight into the well at top speed… The villagers almost beat me to death, but fortunately they didn’t know how to go about it… They punctured me with stakes, chopped my head off, poured holy water all over me and buried me.\n",
      "I–by which I mean I and my myth–personify all his human fears. The crow’s behaviour might be seen as a struggle for life,’ Cahir observed from the darkness. ‘ But don’t go rooting about in the depths of the human subconscious. The reasons people react in panic-stricken horror at the sight of a thirsty vampire aren’t irrational, they are a result of the will to survive.’ ‘ You reason thus: a creature that spills our blood is our deadly enemy.\n",
      "Ultimately a creature like that is repellent to you humans, for although you are aware of blood’s life-giving qualities, it is disgusting to you. In some societies women are considered unclean for a few days every month and they are isolated—’ ‘Among savages, perhaps,’ Cahir interrupted. ‘ A human treated by a vampire as a demijohn of vodka loses his strength, that’s also clear. Let’s focus on those universally accepted myths with no grounds in fact. Applying the matter to the human calendar and assuming there are twelve full moons a year gives us the theoretical sum of fourteen thousand four hundred humans bitten annually. Since the Conjunction–once again calculating according to your reckoning–one thousand five hundred years have passed.\n",
      "He lies there as fresh as a daisy and ruddy-faced, ready to go forth and bite a victim. Where does that myth come from, if not from your subconscious and irrational aversion to your dearly departed? For you, the living dead is the most revolting of revolting anomalies. Yes, indeed,’ said the vampire, impervious to the derision. ‘ At the root of this myth, invented around primeval campfires, lies your heliophilia, by which I mean love of warmth; the circadian rhythm, which relies upon diurnal activity.\n",
      "Sunlight carries with it light and the sun; and the sun’s rays, which are invigorating for you, bring with them the destruction of hostile monsters. I repeat and stress: this myth arose around ancient campfires. One thing is beyond question and is easy to observe,’ Dandelion said. ‘ Returning, however, to your analogies, for us humans the day will always remain the natural time for activity, and the night the natural time for rest.\n",
      "I left this myth until the end,’ Regis said, looking him up and down. ‘ The young man falling prey to the vile practices of a female vampire running her lips over his body. The whole of Angren had suddenly begun to reek with the monstrous, repulsive stench of barbarity. It wasn’t long before they had to hide in ravines and thick undergrowth, for to their left and right, and in front and behind them, the earth shook with cavalry horses’ hooves, and more and more units passed their hide\n",
      "Once again,’ Dandelion said, shaking his head, ‘once again we don’t know who’s fighting who and why. Once again we don’t know who’s behind us or who’s ahead of us, or what direction they’re headed. They’re all as bad as each other,’ Milva snapped, unexpectedly taking the side of the young Nilfgaardian. ‘ He dies if he falls into the Blacks’ clutches, and you escaped a Temerian noose a while back. Nilfgaard, as you know, has captured the mouth of the Yaruga, Cintra and Verden, as well as Upper Sodden.\n",
      "means that the timber being floated from Angren is already supplying the imperial sawmills and shipyards. The northern kingdoms are trying to halt the process, while the Nilfgaardians, on the contrary, want to fell and float as much as possible.’ ‘ We can turn south and try to get across a low point in one of the Yaruga’s meanders. Ysgith isn’t just inhabited by beavers, frogs, tortoises and water birds.\n",
      "Especially when I’ll be riding in the vanguard and keeping close watch on everything. On the rotten tree trunks, piles of weed, scrub, tussocks of grass; and the plants, orchids included. Particularly since there’s no shortage of plant life which likes to supplement its chlorophyll diet with morsels of meat. I just hope those druids will deign to help us find Ciri,’ the poet said worriedly. ‘ It’s considerably more recent than that,’ the vampire assured them with a mysterious smile. ‘ I’ve witnessed them petitioning the authorities more times than I care to remember.\n",
      "And the height of idiocy was the visit of a delegation all arrayed in mistletoe wreathes to the court of King Ethain in Cidaris. Cidaris, as you know, is a kingdom where most people make a living from fishing. The druids demanded that the king order the use of nets with mesh of a specific size, and harshly punish anyone who used finer nets than instructed. The king led them out onto the terrace, pointed to the sea and told them how his bravest sailor had once sailed westwards for two months and only returned because supplies of fresh water had run out on his vessel, and there still wasn’t a sign of land on the horizon.\n",
      "It couldn’t have been the smoke from the conflagration behind them. However, a familiar hoarse squawking interrupted the card players’ excited voices. ‘’ Hello, boys,’ Geralt said, emerging from behind the woodpile. ‘\n",
      "d, sniffing, ‘is sleeping in a birch wood, far from his beloved peaks and Mount Carbon. One of them, who was suckling an infant, turned away in embarrassment at the sight of them approaching. We untied her from the wagon, which was already in flames,’ the dwarf explained. ‘ Because of that Nilfgaardian, who was tracking you and has now joined the company?’ ‘\n",
      "If you swear near them or fart they go as red as beetroots… Never mind. The woodmen talked of an army being commanded by a White Queen or some such. We don’t ask who they are, we just hide in the bushes…’ Regis, who was dealing with the burns on the girl’s arm, interrupted their conversation. ‘ It’s a curse,’ he said in hushed tones, ‘to be able to sense a sickness–the entire essence of it–in the blood, but not be able to treat it…’ ‘Indeed.’\n",
      "When she raised her eyes there really was nothing but fog in them. They marched with the dwarves and their charges for half a day. That’s wise,’ Zoltan said, removing the dwarven sihil in its lacquered scabbard, wrapped in catskins, from his back. ‘ While we’re talking about reciprocity…’ He broke off, coughed, hawked and spat. ‘\n",
      "Because I reckon you were still being misled by false appearances not so long ago. What you took for goodness and integrity was rottenness hidden under a pretty mask. So don’t look at those women and children… don’t take the dwarf who’s standing in front of you as virtuous and noble. After parting with Zoltan and his group, he recalled, we happened upon a group of wandering peasants in the forest. Bollocks to those baboons,’ Dandelion said, grimacing and waving a hand. ‘\n",
      "He had been pondering and analysing the information extracted from the peasants the whole time. ‘ And I don’t think news has reached the Rivian guerrillas about the two spies who recently cheated Marshal Vissegerd’s gallows. My full name,’ Regis said, a little piqued by the look, ‘is authentic. I can neither use nor betray my real name,’ the bard replied mysteriously, proudly putting on airs. ‘\n",
      "ce or twice too, and on one occasion Cahir got the runs so badly he feared it was dysentery. Then refrain from your pompous appeals to direct responsibility,’ Geralt said sombrely. ‘ You were absolutely right, however, to talk about collective responsibility. She thinks, it seems to me, that she’ll drink the decoction in the evening, and the next morning she’ll ride on with us.\n",
      "In Nilfgaard,’ Cahir said, blushing and lowering his head, ‘the woman decides. The word medicament doesn’t suit me somehow… Only you can prepare and give her this agent. I’ve already prepared the agent,’ Regis said, showing them all a little bottle made of dark glass. ‘\n",
      "Milva sat alone by the tiny fire she had started in the forest, in a pit left by a fallen tree, away from the woodmen’s shack where the rest of the company were sleeping. I won’t be able to talk to her about brainy things on the road,” you thought, “but she might come in useful. I thought if it got hard I’d go back with Dandelion… Now just look: Dandelion’s the hero, and I’m…’ Her voice suddenly cracked.\n",
      "eat the caterpillar alive… from the inside… Something like that’s in me now. It’s growing, it keeps growing and it’s going to eat me alive…’ ‘Milva—’ ‘Maria. Then the she-elf undressed without a word, lay down… and the first elf lay with her… It froze me, I didn’t know what to do… Move away, or pretend I couldn’t see? They killed two of them at dawn, before we reached the bank of the Ribbon.\n",
      "her, you won’t exchange her for another, even though you keep threatening to. When they set off again at dawn, Milva rode at the head, calm and smiling. Had I not known,’ he finally said, ‘that as a witcher you are only afraid of real hazards, I should have thought you were worried by the preposterous chatter of a deranged girl.’ ‘ The hormones—’ ‘Drop the patronising, superior tone,’ Geralt interrupted, ‘because i\n",
      "That was the first matter of the two I intended to bring up,’ Regis continued. ‘ There’s also a third matter,’ Regis added, still watching the Witcher carefully. ‘ We give up on Ysgith, which is dangerous for a woman with child. She also flushed out his helper, a powerfully built fellow with the shoulders of an ogre and the face of an utter simpleton.\n",
      "I’m sure the fact there’s a war on,’ the vampire said, boring his eyes into the ferryman, ‘doesn’t interfere with smuggling, does it, my good man? Which is what your ferry is for, after all, craftily positioned as it is far from the royal and Nilfgaardian toll collectors. In front of them was the Nilfgaardian bank, the frontier, the border. I don’t think…’ His voice was drowned out by the shouts of the horsemen on the jetty and the ferryman’s yelling.\n",
      "The loose end of the rope sank heavily into the water, the ferry turned a little and began to float downstream. However, the soldiers by the jetty had stopped shooting, seeing the current pushing the drifting ferryboat straight towards their bank. The ferryboat was spinning like a turd in an ice hole and the horses stamped and whinnied, tugging at the reins, which were being held by Dandelion and the vampire. They know that the rapids round the corner will push us over towards the bank again… Keep those poles at the ready, m’lords!\n",
      "elp the old tub get the better of the current and land… Else we’re doomed…’ They floated, turning, drifting slightly towards the right bank; a steep, high bluff, bristling with crooked pine trees. The current by the right bank was powerful and pushed the ferryboat straight under the high bluff, from which the shouts of the Nilfgaardians could be heard. An arrow shot from the top of the bluff penetrated the ferryboat’s deck almost vertically, two feet from him. He deflected another, which was heading for Cahir, with a blow of his sword. The ferryman’s helper suddenly coughed strangely, dropping his pole into the water.\n",
      "The remaining horses also neighed and thrashed, and the ferryboat shook from the impact of their hooves. ‘ One of the Nilfgaardians holding up the officer screamed piercingly and lurched back off his horse. Masterful shots,’ Regis said calmly from behind the Witcher’s back. ‘ Some of them were riding into the river and preparing to shoot. Now they won’t be able to reach us…’ ‘One of them’s made it to the sandbank!’\n",
      "releases, he trembles and shakes like a woman with a slug wriggling up her arse. The Nilfgaardian tumbled into the water as though struck by lightning and began to float with the current. The river’s meandering and the current will carry us towards their bank again on the next bend. They know it and they’ll be waiting…’ ‘Right now we have another worry,’ the ferryman moaned, getting up from his knees and throwing off his dead helper. ‘\n",
      "rdlings won’t overtake us,’ Regis said, pointing at the left bank from the stern. ‘ They were very close to the bridge when it suddenly began to shake from the boots of running soldiers. Most of them had crossbows, which they rested on the railing and aimed at the ferryboat approaching the bridge. ‘ However, the hail of missiles caused real carnage among the horses.\n",
      "or into the water, escaping the hooves of the agonised, thrashing horses. Pour that over my hands,’ Regis said, handing Geralt a small bottle he had removed from his bag. ‘ He noticed soldiers in white tunics rushing across the bridge at great speed. Some–but far from all–of the fleeing soldiers stopped, terrified by the roaring and flashing of the sword Cahir was whirling dramatically.\n",
      "Your comrades,’ Cahir yelled, brandishing his sword, ‘are still fighting on the bridgehead and at the port! About a dozen soldiers shook their weapons and took up the cry, their voices expressing very varied degrees of conviction. An army which was suddenly being led by the Witcher and the Nilfgaardian. But no one apart from the Witcher paid any attention to it. ‘ What has been started must be finished,’ Geralt snapped, gripping his sword tightly. ‘\n",
      "And so it was that the previously panicked fugitives attacked the Nilfgaardians like fierce wolves, slashing with swords and battle-axes, stabbing with spears and halberds and striking with clubs and maces. The Nilfgaardians had surrounded and cut off the soldiers–who had not yet fled–from the bridge. For Geralt it was something he did not know, a completely new kind of fighting. However, he continued to take advantage of the rather undeserved privilege of being the commander; the soldiers crowded around him covering his flanks, protected his back and cleared the area in front of him, creating space for him to strike and mortally wound. Behind him, yelling wildly, halberdiers and spearmen in red-lozenged tunics forced their way into the gap.\n",
      "pect any great effect, since he had been forced to make do without his witcher elixirs for several weeks. And I’m passing through fire in a battle which is of no interest to me at all. He plunged his bear spear powerfully into the Nilfgaardian’s belly, unseating the enemy with the impetus of the blow. And thus, for Geralt, ended the great battle for the bridge on the Yaruga. Don’t worry, my lord,’ the field surgeon said, tapping and feeling the Witcher’s back. ‘\n",
      "Who would have thought such a thing were possible… That’s the Lyrian Army. After some traitors had captured and hijacked the ferryboat, that bridge became our only hope. He was still thinking of Milva and the route he had chosen for her, fearing the swamps of Ysgith. For outstanding valour in the fight for a just cause,’ the Purple Knight recited with emphasis. ‘ Meve spat thick red gore, pressed the handkerchief to her face, and winked at him over the lace. Well, it hath come to me to give you a predicate for that deed: Geralt of Rivia.\n",
      "If you enjoyed BAPTISM OF FIRE, look out for RED COUNTRY by Joe Abercrombie They burned her home. And out in the lawless Far Country the past never stays buried. They sat in front of Stupfer’s Meat House, which might’ve sounded like a brothel but was actually the worst place to eat within fifty miles, and that with some fierce competition. Now Squaredeal was bursting at its ragged seams with bold pioneers. Leaving their humdrum selves behind on the bank like a shed skin and taking a short cut to happiness. “\n",
      "acked high they’d spend a winter up to their arses in ice water and dig up naught but dirt. Wist took another swallow, the knobble on his scrawny neck bobbing, and watched two would-be prospectors wrestle over the last pickaxe at a stall while the trader struggled vainly to calm them. “ Gold surely can turn men mad,” muttered Wist, all wistful as his name implied. “ For the quickest moment a trek into the hills didn’t sound such a mad notion after all.\n",
      "Folk who should’ve been satisfied with the comfortable lives they had, suddenly deciding they’d take any chance at grabbing more. His rumble of a voice tweaked high at the end to make a question of it, but what he was really asking was, How bad did I fuck up? Shy shook her head, tongue wedged in her cheek, letting him know he’d fucked up middling to bad. “\n",
      "at Lamb and the Northman looked straight to the ground, shifting sideways like he was trying and wholly failing to vanish. Squaredeal’s a strange sort o’ name for a town where you’d claw out a business! They’re scum to a man, and I’ll hold ’em up ’til Juvens gets back from the land of the dead if it means thirty-five.” “ Thirty-three and you can toss in a pair o’ those new shovels and some feed for my oxen.\n",
      "stretch to some seed too, try and nurse the cabbage patch back to health. You don’t need a big dream, her mother used to tell her when she was in a rare good mood, a little one will do it. “ As he turned he nearly barged into another Northman, big as he was and a lot meaner-looking. Lamb kept trudging, head down, how he always did from the least breath of trouble.\n",
      "A pause, with just the clicking of coins and the turning of numbers in her head. “ Heard Glama Golden won another fight in the pit up near Greyer,” said Clay. “ We should be thinking about how we’ll play it, if they come to Squaredeal. Most of us aren’t,” said Clay, “but sometimes politics takes an interest in us all the same.\n",
      "I’d rather be thieved honest with mask and dagger than have some bloodless bastard come at me with pen and paper.” “ She reached to take the brake off and almost put her hand in the beard of the Northman Lamb knocked into earlier. He was standing right beside the wagon, brow all ploughed up like he was trying to bring some foggy memory to mind, thumbs tucked into a sword-belt—big, simple hilt close to hand.\n",
      "Lamb grunted something back, then snapped the reins and the wagon rolled off, Shy swaying with the jolting wheels. They were laughing when they clattered over the rise and the shallow little valley opened out in front of them. Through the stubble of the field they’d harvested not a week before. They’d hanged him over her mother’s grave and kicked down the headstone. Shy felt like she was kicked in the guts and she bent over, arms hugged around herself, and groaned, and the tree groaned with her as the wind shook its leaves and set Gully’s corpse gently\n",
      "She heard Lamb’s boots thumping up, then slowing, then coming steady until he stood beside her. “ Lamb just nodded, his grey hair and his grey beard all streaked with soot. “ He looked so small now, and so thin, she wanted to put a coat on him but there was none to hand.\n",
      "they filled the hole together, and they dragged her mother’s stone up straight again and tramped the thrashing grass around it, ash blowing on the cold wind in specks of black and grey, whipping across the land and off to nowhere. “ If we chase after on foot, and don’t starve or get washed away in a storm, and if we catch ’em, what then? Nodding at the oxen, grazing a little while they had the chance. “ And what happens to Ro and Pit while we’re fucking following on?”\n",
      "Kip crawled toward the battlefield in the darkness, the mist pressing down, blotting out sound, scattering starlight. A pack of giant javelinas had been seen roaming the night, tusks cruel, hooves sharp. They were good eating if you had a matchlock, iron nerves, and good aim, but since the Prisms’ War had wiped out all the town’s men, there weren’t many people who braved death for a little bacon. Besides, that was one of the tricks about a howl, it always sounded much closer than it really was.\n",
      "sun exposure, but here and there broken green luxin spears still glittered. Nothing was worse than hearing that chilling sound, but at least with the sound he knew where they were. He tore his eyes away from the hill—still no sign of the ghost or man or whatever it was. Kip walked on his toes, silently, his back itching, sure that a lead ball was going to tear through him at any moment.\n",
      "Kip had seen his mother unconscious plenty of times; he knew instantly this man wasn’t passed out. He chased me down and got the bag over my head before he died. On the other hand, just because Rekton wasn’t getting along with the satrap right now didn’t make this man Kip’s friend. “\n",
      "and women who could harness light and make luxin—drafters—always had unusual eyes. And now you know why I ran away from the Chromeria,” the man said. Kip was on the verge of bolting, but the man wasn’t making any threatening moves. Oh, for Orholam’s sake, you think I’m going to hex you with your name?\n",
      "I couldn’t get it out, not with—” He shook his hands, bound and manacled behind his back. “ He poked through the dead man’s pocket, careful not to touch skin. The color wight pretended not to notice, simply rubbing his arms and stretching back and forth.\n",
      "If what you said is true—” “How close do you think I’d get to your town before someone came running with a musket? The emerald green of luxin ballooned through his eyes, thickened until it was solid, and then spread. He reached the funerary hill where the sentry had been, taking care to stay on the far side from the army. Kip couldn’t see the soldiers or the red drafter approaching Gaspar, but he did see a fireball the size of his head streak toward the color wight, hit his chest, and burst apart, throwing flames everywhere. He ran toward the soldiers, screaming defiance, and disappeared from Kip’s view.\n"
     ]
    }
   ],
   "source": [
    "# Create a json that can be imported by sd-webui-agent-scheduler\n",
    "\n",
    "make_scheduler_json(\n",
    "    template_file='test.json', # Existing template json file\n",
    "    output_file='result.json', # Name of output file (import this file with sd-webui-agent-scheduler)\n",
    "    summarized_book=summarized_book,  # summarized_book from 2nd cell in this notebook\n",
    "    chapter_indices=chapter_indices, # chapter_indices from 3rd cell in this notebook\n",
    "    checkpoint_name = 'dreamshaperXL_turboDpmppSDE', # SD Checkpoint Name\n",
    "    cfg_scale=2, # SD cfg_scale\n",
    "    steps=5 # SD steps\n",
    ")"
   ]
  },
  {
   "cell_type": "code",
   "execution_count": 5,
   "id": "38f17a0e-5e47-4abb-b6c8-9e307944862f",
   "metadata": {},
   "outputs": [
    {
     "name": "stdout",
     "output_type": "stream",
     "text": [
      "[6, 30, 59, 87, 116, 145, 174, 203, 232, 260, 289, 318, 347, 376, 404, 433, 462, 491, 520, 549, 577, 606, 635, 664, 693, 722, 750, 779, 808]\n",
      "[6, 31, 62, 92, 122, 153, 183, 213, 243, 274, 304, 334, 365, 395, 425, 456, 486, 516, 546, 577, 607, 637, 668, 698, 728, 759, 789, 819, 850, 880, 910, 940, 971, 1001, 1031, 1062, 1092]\n",
      "[6, 35, 70, 104, 139, 173, 208, 242, 277, 311, 346, 380, 415, 449, 484, 518, 553, 587, 622, 656, 691, 725, 760, 794]\n",
      "[6, 34, 67, 99, 132, 165, 198, 231, 263, 296, 329, 362, 394, 427, 460, 493, 526, 558, 591, 624, 657, 690, 722, 755, 788]\n",
      "[6, 33, 65, 97, 129, 161, 193, 225, 257, 289, 321, 353, 385, 417, 449, 481, 514, 546, 578, 610, 642, 674, 706, 738, 770, 802, 834, 866, 898, 930, 962, 994, 1026]\n",
      "[6, 26, 51, 76, 100, 125, 150, 175, 200, 225, 250, 275, 299, 324, 349, 374, 399, 424, 449, 474, 498, 523, 548, 573, 598, 623, 648, 673, 697, 722, 747, 772]\n",
      "[6, 31, 62, 92, 123, 153, 184, 214, 245, 275, 305, 336, 366, 397, 427, 458, 488, 519, 549, 580, 610, 640, 671, 701, 732, 762, 793, 823, 854, 884, 914, 945, 975, 1006, 1036, 1067, 1097, 1128, 1158]\n",
      "[6, 43, 85, 127, 169, 210, 252, 294, 336, 378]\n",
      "[6, 49, 97, 144, 192, 240]\n",
      "Finished!\n"
     ]
    }
   ],
   "source": [
    "# Add images to epub file and save as new file\n",
    "\n",
    "create_book(\n",
    "    summarized_book = summarized_book, # summarized_book from 2nd cell in this notebook\n",
    "    original_epub_path='data/BaptismofFire.epub', # path to original epub\n",
    "    new_epub_name='testbook2.epub', # name of new epub file (this is created by the script, no need to have an existing file)\n",
    "    chapter_indices=chapter_indices, # chapter_indices from 3rd cell in this notebook\n",
    "    \n",
    "    # path to folder where generated images are stored \n",
    "    # !(this folder should not contain any other images than the ones generated from the JSON)!\n",
    "    # Images should be ordered in correct alphanumerical order! (This is likely already the case.)\n",
    "    image_path='imgs/',\n",
    "    verbose=True # Whether to print the indices of added images\n",
    ")"
   ]
  }
 ],
 "metadata": {
  "kernelspec": {
   "display_name": "Python 3 (ipykernel)",
   "language": "python",
   "name": "python3"
  },
  "language_info": {
   "codemirror_mode": {
    "name": "ipython",
    "version": 3
   },
   "file_extension": ".py",
   "mimetype": "text/x-python",
   "name": "python",
   "nbconvert_exporter": "python",
   "pygments_lexer": "ipython3",
   "version": "3.10.12"
  }
 },
 "nbformat": 4,
 "nbformat_minor": 5
}
